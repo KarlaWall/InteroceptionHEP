{
 "cells": [
  {
   "cell_type": "markdown",
   "metadata": {},
   "source": [
    "## Sliding window analysis\n",
    "This file takes the raw data from the `data_hep*.csv` files, removes any missing/NA data, prints summary statistics on the data, and then performs Analysis 1 and 2. The output of both analyses can be found in `correlations_julia.csv` and `epoch_correlations.csv` respectively.\n",
    "\n",
    "For the plotting of graphs, see `plotting.qmd`"
   ]
  },
  {
   "cell_type": "code",
   "execution_count": 46,
   "metadata": {},
   "outputs": [
    {
     "name": "stdout",
     "output_type": "stream",
     "text": [
      "6\n"
     ]
    },
    {
     "data": {
      "text/plain": [
       "remove_undef (generic function with 1 method)"
      ]
     },
     "metadata": {},
     "output_type": "display_data"
    }
   ],
   "source": [
    "using CSV, DataFrames, HTTP, HypothesisTests, Base.Threads, Statistics, DataStructures\n",
    "\n",
    "println(Threads.nthreads())\n",
    "\n",
    "# Types\n",
    "@kwdef struct CorTestResult\n",
    "    Parameter1::Symbol = Symbol()\n",
    "    Parameter2::Symbol = Symbol()\n",
    "    r::Float64 = 0.0\n",
    "    abs_r::Float64 = 0.0\n",
    "    time::Float64 = 0.0\n",
    "    condition::Symbol = Symbol()\n",
    "    window_size::Float64 = 0.0\n",
    "    p::Float64 = 0.0\n",
    "    t::Float64 = 0.0\n",
    "    ci_lower::Float64 = 0.0\n",
    "    ci_higher::Float64 = 0.0\n",
    "    ci::Float64 = 0.0\n",
    "    n::Int = 0\n",
    "    df_error::Int = 0\n",
    "end\n",
    "\n",
    "@kwdef struct EpochCorTestResult\n",
    "    Parameter1::Symbol = Symbol()\n",
    "    Parameter2::Symbol = Symbol()\n",
    "    r::Float64 = 0.0\n",
    "    abs_r::Float64 = 0.0\n",
    "    p::Float64 = 0.0\n",
    "    t::Float64 = 0.0\n",
    "    ci_lower::Float64 = 0.0\n",
    "    ci_higher::Float64 = 0.0\n",
    "    ci::Float64 = 0.0\n",
    "    n::Int = 0\n",
    "    df_error::Int = 0\n",
    "    epoch::Int = 0\n",
    "end\n",
    "\n",
    "struct EpochStats\n",
    "    min_count::Int\n",
    "    max_count::Int\n",
    "    mean_count::Float64\n",
    "    std_count::Float64\n",
    "end\n",
    "\n",
    "struct AgeStats\n",
    "    min::Int\n",
    "    max::Int\n",
    "    mean::Float64\n",
    "    std::Float64\n",
    "    vec::Vector{Union{Int, Missing}}\n",
    "end\n",
    "\n",
    "struct PPStats\n",
    "    included::Vector{String7}\n",
    "    included_count::Int\n",
    "    excluded::Vector{String7}\n",
    "    excluded_count::Int\n",
    "    total::Int\n",
    "    age::AgeStats\n",
    "    gender::Dict\n",
    "\n",
    "    function PPStats(included::Vector{String7}, excluded::Vector{String7}, age::AgeStats, gender::Dict)\n",
    "        unique_included = unique(included)\n",
    "        unique_excluded = unique(excluded)\n",
    "        total = length(unique_included) + length(unique_excluded)\n",
    "        new(unique_included, length(unique_included), unique_excluded, length(unique_excluded), total, age, gender)\n",
    "    end\n",
    "end\n",
    "\n",
    "# Utility Functions\n",
    "\n",
    "filter_missings(args...) = collect.(skipmissings(args...)) # Evaluate the iterator from `skipmissings` ahead of time in order to satisfy type checking.\n",
    "\n",
    "remove_undef(vec) = [vec[i] for i = 1:length(vec) if isassigned(vec, i)] # Remove any undef"
   ]
  },
  {
   "cell_type": "code",
   "execution_count": 47,
   "metadata": {},
   "outputs": [
    {
     "data": {
      "text/plain": [
       "summary_stats (generic function with 1 method)"
      ]
     },
     "metadata": {},
     "output_type": "display_data"
    }
   ],
   "source": [
    "# Calculate summary statistics\n",
    "function summary_stats(filtered_intero, nomissing, pp_population_stats, hepdata)\n",
    "    # Create a dataframe showing participants with any columns containing missing data. These pps are excluded.\n",
    "    global missingdf = filter(row -> any(ismissing, row) && row.Participant in hepdata.Participant, filtered_intero)\n",
    "    cols_to_remove = [col for col in names(missingdf) if all(!ismissing, missingdf[!, col])] # Remove columns with no missing data, for visualisation purposes\n",
    "    select!(missingdf, :Participant, Not(cols_to_remove))\n",
    "\n",
    "    included_participants = unique(nomissing.Participant)\n",
    "    excluded_participants = unique(missingdf.Participant)\n",
    "\n",
    "    filter!(row -> row.Participant in included_participants, pp_population_stats)\n",
    "    age_vec = skipmissing(pp_population_stats.Age)\n",
    "\n",
    "    agestats = AgeStats(minimum(age_vec), maximum(age_vec), mean(age_vec), std(age_vec), pp_population_stats.Age)\n",
    "    genderstats = Dict(counter(pp_population_stats.Gender))\n",
    "    global ppstats = PPStats(included_participants, excluded_participants, agestats, genderstats)\n",
    "\n",
    "    println(\"Beginning analysis with $(nrow(nomissing)) time points.\")\n",
    "    println(\"Excluded $(ppstats.excluded_count) participants: $(join(ppstats.excluded, \", \"))\")\n",
    "end\n"
   ]
  },
  {
   "cell_type": "code",
   "execution_count": 48,
   "metadata": {},
   "outputs": [
    {
     "name": "stdout",
     "output_type": "stream",
     "text": [
      "Beginning analysis with 9255411 time points.\n",
      "Excluded 13 participants: sub-07, sub-09, sub-100, sub-11, sub-110, sub-114, sub-33, sub-38, sub-41, sub-48, sub-67, sub-72, sub-90\n",
      "PPs included: 105\n",
      "PPs excluded: 13\n",
      "Min age: 18\n",
      "Max age: 50\n",
      "Mean age: 21.25\n",
      "SD age: 4.878623870907286\n",
      "Gender count: Dict{String7, Int64}(\"Female\" => 84, \"Male\" => 16, \"Other\" => 3, \"\" => 2)\n"
     ]
    },
    {
     "data": {
      "text/html": [
       "<div><div style = \"float: left;\"><span>9255411×34 DataFrame</span></div><div style = \"float: right;\"><span style = \"font-style: italic;\">9255386 rows omitted</span></div><div style = \"clear: both;\"></div></div><div class = \"data-frame\" style = \"overflow-x: scroll;\"><table class = \"data-frame\" style = \"margin-bottom: 6px;\"><thead><tr class = \"header\"><th class = \"rowNumber\" style = \"font-weight: bold; text-align: right;\">Row</th><th style = \"text-align: left;\">time</th><th style = \"text-align: left;\">epoch</th><th style = \"text-align: left;\">AF7</th><th style = \"text-align: left;\">AF8</th><th style = \"text-align: left;\">PPG_Muse</th><th style = \"text-align: left;\">ECG</th><th style = \"text-align: left;\">RSP</th><th style = \"text-align: left;\">Participant</th><th style = \"text-align: left;\">Condition</th><th style = \"text-align: left;\">MAIA_Noticing</th><th style = \"text-align: left;\">MAIA_NotDistracting</th><th style = \"text-align: left;\">MAIA_NotWorrying</th><th style = \"text-align: left;\">MAIA_AttentionRegulation</th><th style = \"text-align: left;\">MAIA_EmotionalAwareness</th><th style = \"text-align: left;\">MAIA_SelfRegulation</th><th style = \"text-align: left;\">MAIA_BodyListening</th><th style = \"text-align: left;\">MAIA_Trusting</th><th style = \"text-align: left;\">HRV_MeanNN</th><th style = \"text-align: left;\">HRV_SDNN</th><th style = \"text-align: left;\">HRV_RMSSD</th><th style = \"text-align: left;\">HRV_SampEn</th><th style = \"text-align: left;\">HRV_HF</th><th style = \"text-align: left;\">HRV_HFD</th><th style = \"text-align: left;\">HRV_LFHF</th><th style = \"text-align: left;\">HRV_IALS</th><th style = \"text-align: left;\">HRV_Ca</th><th style = \"text-align: left;\">HRV_AI</th><th style = \"text-align: left;\">HCT_Accuracy</th><th style = \"text-align: left;\">HCT_Sensibility</th><th style = \"text-align: left;\">HCT_Awareness</th><th style = \"text-align: left;\">HRV_MeanNN_HCT</th><th style = \"text-align: left;\">HRV_SDNN_HCT</th><th style = \"text-align: left;\">HRV_RMSSD_HCT</th><th style = \"text-align: left;\">IAS_Total</th></tr><tr class = \"subheader headerLastRow\"><th class = \"rowNumber\" style = \"font-weight: bold; text-align: right;\"></th><th title = \"Float64\" style = \"text-align: left;\">Float64</th><th title = \"Int64\" style = \"text-align: left;\">Int64</th><th title = \"Float64\" style = \"text-align: left;\">Float64</th><th title = \"Float64\" style = \"text-align: left;\">Float64</th><th title = \"Float64\" style = \"text-align: left;\">Float64</th><th title = \"Float64\" style = \"text-align: left;\">Float64</th><th title = \"Float64\" style = \"text-align: left;\">Float64</th><th title = \"String7\" style = \"text-align: left;\">String7</th><th title = \"Symbol\" style = \"text-align: left;\">Symbol</th><th title = \"Float64\" style = \"text-align: left;\">Float64</th><th title = \"Float64\" style = \"text-align: left;\">Float64</th><th title = \"Float64\" style = \"text-align: left;\">Float64</th><th title = \"Float64\" style = \"text-align: left;\">Float64</th><th title = \"Float64\" style = \"text-align: left;\">Float64</th><th title = \"Float64\" style = \"text-align: left;\">Float64</th><th title = \"Float64\" style = \"text-align: left;\">Float64</th><th title = \"Float64\" style = \"text-align: left;\">Float64</th><th title = \"Float64\" style = \"text-align: left;\">Float64</th><th title = \"Float64\" style = \"text-align: left;\">Float64</th><th title = \"Float64\" style = \"text-align: left;\">Float64</th><th title = \"Float64\" style = \"text-align: left;\">Float64</th><th title = \"Float64\" style = \"text-align: left;\">Float64</th><th title = \"Float64\" style = \"text-align: left;\">Float64</th><th title = \"Float64\" style = \"text-align: left;\">Float64</th><th title = \"Float64\" style = \"text-align: left;\">Float64</th><th title = \"Float64\" style = \"text-align: left;\">Float64</th><th title = \"Float64\" style = \"text-align: left;\">Float64</th><th title = \"Float64\" style = \"text-align: left;\">Float64</th><th title = \"Float64\" style = \"text-align: left;\">Float64</th><th title = \"Float64\" style = \"text-align: left;\">Float64</th><th title = \"Float64\" style = \"text-align: left;\">Float64</th><th title = \"Float64\" style = \"text-align: left;\">Float64</th><th title = \"Float64\" style = \"text-align: left;\">Float64</th><th title = \"Float64\" style = \"text-align: left;\">Float64</th></tr></thead><tbody><tr><td class = \"rowNumber\" style = \"font-weight: bold; text-align: right;\">1</td><td style = \"text-align: right;\">-0.4</td><td style = \"text-align: right;\">14</td><td style = \"text-align: right;\">-1.66513</td><td style = \"text-align: right;\">-51.3104</td><td style = \"text-align: right;\">1.0878e5</td><td style = \"text-align: right;\">-0.029</td><td style = \"text-align: right;\">-0.132573</td><td style = \"text-align: left;\">sub-91</td><td style = \"text-align: left;\">RestingState</td><td style = \"text-align: right;\">0.705</td><td style = \"text-align: right;\">0.74</td><td style = \"text-align: right;\">0.788</td><td style = \"text-align: right;\">0.297143</td><td style = \"text-align: right;\">0.872</td><td style = \"text-align: right;\">0.385</td><td style = \"text-align: right;\">0.673333</td><td style = \"text-align: right;\">0.793333</td><td style = \"text-align: right;\">724.113</td><td style = \"text-align: right;\">73.5942</td><td style = \"text-align: right;\">66.5277</td><td style = \"text-align: right;\">1.38837</td><td style = \"text-align: right;\">0.0274694</td><td style = \"text-align: right;\">1.8849</td><td style = \"text-align: right;\">0.366189</td><td style = \"text-align: right;\">0.376147</td><td style = \"text-align: right;\">0.483262</td><td style = \"text-align: right;\">50.4572</td><td style = \"text-align: right;\">0.768808</td><td style = \"text-align: right;\">0.0216667</td><td style = \"text-align: right;\">0.294245</td><td style = \"text-align: right;\">809.041</td><td style = \"text-align: right;\">82.2469</td><td style = \"text-align: right;\">76.5381</td><td style = \"text-align: right;\">0.840476</td></tr><tr><td class = \"rowNumber\" style = \"font-weight: bold; text-align: right;\">2</td><td style = \"text-align: right;\">-0.39</td><td style = \"text-align: right;\">14</td><td style = \"text-align: right;\">-45.9361</td><td style = \"text-align: right;\">-97.5502</td><td style = \"text-align: right;\">1.08789e5</td><td style = \"text-align: right;\">-0.029</td><td style = \"text-align: right;\">-0.135</td><td style = \"text-align: left;\">sub-91</td><td style = \"text-align: left;\">RestingState</td><td style = \"text-align: right;\">0.705</td><td style = \"text-align: right;\">0.74</td><td style = \"text-align: right;\">0.788</td><td style = \"text-align: right;\">0.297143</td><td style = \"text-align: right;\">0.872</td><td style = \"text-align: right;\">0.385</td><td style = \"text-align: right;\">0.673333</td><td style = \"text-align: right;\">0.793333</td><td style = \"text-align: right;\">724.113</td><td style = \"text-align: right;\">73.5942</td><td style = \"text-align: right;\">66.5277</td><td style = \"text-align: right;\">1.38837</td><td style = \"text-align: right;\">0.0274694</td><td style = \"text-align: right;\">1.8849</td><td style = \"text-align: right;\">0.366189</td><td style = \"text-align: right;\">0.376147</td><td style = \"text-align: right;\">0.483262</td><td style = \"text-align: right;\">50.4572</td><td style = \"text-align: right;\">0.768808</td><td style = \"text-align: right;\">0.0216667</td><td style = \"text-align: right;\">0.294245</td><td style = \"text-align: right;\">809.041</td><td style = \"text-align: right;\">82.2469</td><td style = \"text-align: right;\">76.5381</td><td style = \"text-align: right;\">0.840476</td></tr><tr><td class = \"rowNumber\" style = \"font-weight: bold; text-align: right;\">3</td><td style = \"text-align: right;\">-0.38</td><td style = \"text-align: right;\">14</td><td style = \"text-align: right;\">-50.9865</td><td style = \"text-align: right;\">-94.3602</td><td style = \"text-align: right;\">1.08788e5</td><td style = \"text-align: right;\">-0.0314266</td><td style = \"text-align: right;\">-0.135</td><td style = \"text-align: left;\">sub-91</td><td style = \"text-align: left;\">RestingState</td><td style = \"text-align: right;\">0.705</td><td style = \"text-align: right;\">0.74</td><td style = \"text-align: right;\">0.788</td><td style = \"text-align: right;\">0.297143</td><td style = \"text-align: right;\">0.872</td><td style = \"text-align: right;\">0.385</td><td style = \"text-align: right;\">0.673333</td><td style = \"text-align: right;\">0.793333</td><td style = \"text-align: right;\">724.113</td><td style = \"text-align: right;\">73.5942</td><td style = \"text-align: right;\">66.5277</td><td style = \"text-align: right;\">1.38837</td><td style = \"text-align: right;\">0.0274694</td><td style = \"text-align: right;\">1.8849</td><td style = \"text-align: right;\">0.366189</td><td style = \"text-align: right;\">0.376147</td><td style = \"text-align: right;\">0.483262</td><td style = \"text-align: right;\">50.4572</td><td style = \"text-align: right;\">0.768808</td><td style = \"text-align: right;\">0.0216667</td><td style = \"text-align: right;\">0.294245</td><td style = \"text-align: right;\">809.041</td><td style = \"text-align: right;\">82.2469</td><td style = \"text-align: right;\">76.5381</td><td style = \"text-align: right;\">0.840476</td></tr><tr><td class = \"rowNumber\" style = \"font-weight: bold; text-align: right;\">4</td><td style = \"text-align: right;\">-0.37</td><td style = \"text-align: right;\">14</td><td style = \"text-align: right;\">-53.9315</td><td style = \"text-align: right;\">-109.773</td><td style = \"text-align: right;\">1.08796e5</td><td style = \"text-align: right;\">-0.018</td><td style = \"text-align: right;\">-0.139</td><td style = \"text-align: left;\">sub-91</td><td style = \"text-align: left;\">RestingState</td><td style = \"text-align: right;\">0.705</td><td style = \"text-align: right;\">0.74</td><td style = \"text-align: right;\">0.788</td><td style = \"text-align: right;\">0.297143</td><td style = \"text-align: right;\">0.872</td><td style = \"text-align: right;\">0.385</td><td style = \"text-align: right;\">0.673333</td><td style = \"text-align: right;\">0.793333</td><td style = \"text-align: right;\">724.113</td><td style = \"text-align: right;\">73.5942</td><td style = \"text-align: right;\">66.5277</td><td style = \"text-align: right;\">1.38837</td><td style = \"text-align: right;\">0.0274694</td><td style = \"text-align: right;\">1.8849</td><td style = \"text-align: right;\">0.366189</td><td style = \"text-align: right;\">0.376147</td><td style = \"text-align: right;\">0.483262</td><td style = \"text-align: right;\">50.4572</td><td style = \"text-align: right;\">0.768808</td><td style = \"text-align: right;\">0.0216667</td><td style = \"text-align: right;\">0.294245</td><td style = \"text-align: right;\">809.041</td><td style = \"text-align: right;\">82.2469</td><td style = \"text-align: right;\">76.5381</td><td style = \"text-align: right;\">0.840476</td></tr><tr><td class = \"rowNumber\" style = \"font-weight: bold; text-align: right;\">5</td><td style = \"text-align: right;\">-0.36</td><td style = \"text-align: right;\">14</td><td style = \"text-align: right;\">-65.2803</td><td style = \"text-align: right;\">-106.944</td><td style = \"text-align: right;\">1.08808e5</td><td style = \"text-align: right;\">-0.0213826</td><td style = \"text-align: right;\">-0.142</td><td style = \"text-align: left;\">sub-91</td><td style = \"text-align: left;\">RestingState</td><td style = \"text-align: right;\">0.705</td><td style = \"text-align: right;\">0.74</td><td style = \"text-align: right;\">0.788</td><td style = \"text-align: right;\">0.297143</td><td style = \"text-align: right;\">0.872</td><td style = \"text-align: right;\">0.385</td><td style = \"text-align: right;\">0.673333</td><td style = \"text-align: right;\">0.793333</td><td style = \"text-align: right;\">724.113</td><td style = \"text-align: right;\">73.5942</td><td style = \"text-align: right;\">66.5277</td><td style = \"text-align: right;\">1.38837</td><td style = \"text-align: right;\">0.0274694</td><td style = \"text-align: right;\">1.8849</td><td style = \"text-align: right;\">0.366189</td><td style = \"text-align: right;\">0.376147</td><td style = \"text-align: right;\">0.483262</td><td style = \"text-align: right;\">50.4572</td><td style = \"text-align: right;\">0.768808</td><td style = \"text-align: right;\">0.0216667</td><td style = \"text-align: right;\">0.294245</td><td style = \"text-align: right;\">809.041</td><td style = \"text-align: right;\">82.2469</td><td style = \"text-align: right;\">76.5381</td><td style = \"text-align: right;\">0.840476</td></tr><tr><td class = \"rowNumber\" style = \"font-weight: bold; text-align: right;\">6</td><td style = \"text-align: right;\">-0.35</td><td style = \"text-align: right;\">14</td><td style = \"text-align: right;\">-33.6722</td><td style = \"text-align: right;\">-63.2689</td><td style = \"text-align: right;\">1.08828e5</td><td style = \"text-align: right;\">-0.021</td><td style = \"text-align: right;\">-0.142</td><td style = \"text-align: left;\">sub-91</td><td style = \"text-align: left;\">RestingState</td><td style = \"text-align: right;\">0.705</td><td style = \"text-align: right;\">0.74</td><td style = \"text-align: right;\">0.788</td><td style = \"text-align: right;\">0.297143</td><td style = \"text-align: right;\">0.872</td><td style = \"text-align: right;\">0.385</td><td style = \"text-align: right;\">0.673333</td><td style = \"text-align: right;\">0.793333</td><td style = \"text-align: right;\">724.113</td><td style = \"text-align: right;\">73.5942</td><td style = \"text-align: right;\">66.5277</td><td style = \"text-align: right;\">1.38837</td><td style = \"text-align: right;\">0.0274694</td><td style = \"text-align: right;\">1.8849</td><td style = \"text-align: right;\">0.366189</td><td style = \"text-align: right;\">0.376147</td><td style = \"text-align: right;\">0.483262</td><td style = \"text-align: right;\">50.4572</td><td style = \"text-align: right;\">0.768808</td><td style = \"text-align: right;\">0.0216667</td><td style = \"text-align: right;\">0.294245</td><td style = \"text-align: right;\">809.041</td><td style = \"text-align: right;\">82.2469</td><td style = \"text-align: right;\">76.5381</td><td style = \"text-align: right;\">0.840476</td></tr><tr><td class = \"rowNumber\" style = \"font-weight: bold; text-align: right;\">7</td><td style = \"text-align: right;\">-0.34</td><td style = \"text-align: right;\">14</td><td style = \"text-align: right;\">-49.3368</td><td style = \"text-align: right;\">-78.5769</td><td style = \"text-align: right;\">1.08848e5</td><td style = \"text-align: right;\">-0.021</td><td style = \"text-align: right;\">-0.142</td><td style = \"text-align: left;\">sub-91</td><td style = \"text-align: left;\">RestingState</td><td style = \"text-align: right;\">0.705</td><td style = \"text-align: right;\">0.74</td><td style = \"text-align: right;\">0.788</td><td style = \"text-align: right;\">0.297143</td><td style = \"text-align: right;\">0.872</td><td style = \"text-align: right;\">0.385</td><td style = \"text-align: right;\">0.673333</td><td style = \"text-align: right;\">0.793333</td><td style = \"text-align: right;\">724.113</td><td style = \"text-align: right;\">73.5942</td><td style = \"text-align: right;\">66.5277</td><td style = \"text-align: right;\">1.38837</td><td style = \"text-align: right;\">0.0274694</td><td style = \"text-align: right;\">1.8849</td><td style = \"text-align: right;\">0.366189</td><td style = \"text-align: right;\">0.376147</td><td style = \"text-align: right;\">0.483262</td><td style = \"text-align: right;\">50.4572</td><td style = \"text-align: right;\">0.768808</td><td style = \"text-align: right;\">0.0216667</td><td style = \"text-align: right;\">0.294245</td><td style = \"text-align: right;\">809.041</td><td style = \"text-align: right;\">82.2469</td><td style = \"text-align: right;\">76.5381</td><td style = \"text-align: right;\">0.840476</td></tr><tr><td class = \"rowNumber\" style = \"font-weight: bold; text-align: right;\">8</td><td style = \"text-align: right;\">-0.33</td><td style = \"text-align: right;\">14</td><td style = \"text-align: right;\">-62.7101</td><td style = \"text-align: right;\">-89.4344</td><td style = \"text-align: right;\">1.08862e5</td><td style = \"text-align: right;\">-0.023</td><td style = \"text-align: right;\">-0.142</td><td style = \"text-align: left;\">sub-91</td><td style = \"text-align: left;\">RestingState</td><td style = \"text-align: right;\">0.705</td><td style = \"text-align: right;\">0.74</td><td style = \"text-align: right;\">0.788</td><td style = \"text-align: right;\">0.297143</td><td style = \"text-align: right;\">0.872</td><td style = \"text-align: right;\">0.385</td><td style = \"text-align: right;\">0.673333</td><td style = \"text-align: right;\">0.793333</td><td style = \"text-align: right;\">724.113</td><td style = \"text-align: right;\">73.5942</td><td style = \"text-align: right;\">66.5277</td><td style = \"text-align: right;\">1.38837</td><td style = \"text-align: right;\">0.0274694</td><td style = \"text-align: right;\">1.8849</td><td style = \"text-align: right;\">0.366189</td><td style = \"text-align: right;\">0.376147</td><td style = \"text-align: right;\">0.483262</td><td style = \"text-align: right;\">50.4572</td><td style = \"text-align: right;\">0.768808</td><td style = \"text-align: right;\">0.0216667</td><td style = \"text-align: right;\">0.294245</td><td style = \"text-align: right;\">809.041</td><td style = \"text-align: right;\">82.2469</td><td style = \"text-align: right;\">76.5381</td><td style = \"text-align: right;\">0.840476</td></tr><tr><td class = \"rowNumber\" style = \"font-weight: bold; text-align: right;\">9</td><td style = \"text-align: right;\">-0.32</td><td style = \"text-align: right;\">14</td><td style = \"text-align: right;\">-30.315</td><td style = \"text-align: right;\">-60.7955</td><td style = \"text-align: right;\">108850.0</td><td style = \"text-align: right;\">-0.018</td><td style = \"text-align: right;\">-0.142</td><td style = \"text-align: left;\">sub-91</td><td style = \"text-align: left;\">RestingState</td><td style = \"text-align: right;\">0.705</td><td style = \"text-align: right;\">0.74</td><td style = \"text-align: right;\">0.788</td><td style = \"text-align: right;\">0.297143</td><td style = \"text-align: right;\">0.872</td><td style = \"text-align: right;\">0.385</td><td style = \"text-align: right;\">0.673333</td><td style = \"text-align: right;\">0.793333</td><td style = \"text-align: right;\">724.113</td><td style = \"text-align: right;\">73.5942</td><td style = \"text-align: right;\">66.5277</td><td style = \"text-align: right;\">1.38837</td><td style = \"text-align: right;\">0.0274694</td><td style = \"text-align: right;\">1.8849</td><td style = \"text-align: right;\">0.366189</td><td style = \"text-align: right;\">0.376147</td><td style = \"text-align: right;\">0.483262</td><td style = \"text-align: right;\">50.4572</td><td style = \"text-align: right;\">0.768808</td><td style = \"text-align: right;\">0.0216667</td><td style = \"text-align: right;\">0.294245</td><td style = \"text-align: right;\">809.041</td><td style = \"text-align: right;\">82.2469</td><td style = \"text-align: right;\">76.5381</td><td style = \"text-align: right;\">0.840476</td></tr><tr><td class = \"rowNumber\" style = \"font-weight: bold; text-align: right;\">10</td><td style = \"text-align: right;\">-0.31</td><td style = \"text-align: right;\">14</td><td style = \"text-align: right;\">-25.8408</td><td style = \"text-align: right;\">-38.5933</td><td style = \"text-align: right;\">1.08857e5</td><td style = \"text-align: right;\">-0.00657492</td><td style = \"text-align: right;\">-0.139</td><td style = \"text-align: left;\">sub-91</td><td style = \"text-align: left;\">RestingState</td><td style = \"text-align: right;\">0.705</td><td style = \"text-align: right;\">0.74</td><td style = \"text-align: right;\">0.788</td><td style = \"text-align: right;\">0.297143</td><td style = \"text-align: right;\">0.872</td><td style = \"text-align: right;\">0.385</td><td style = \"text-align: right;\">0.673333</td><td style = \"text-align: right;\">0.793333</td><td style = \"text-align: right;\">724.113</td><td style = \"text-align: right;\">73.5942</td><td style = \"text-align: right;\">66.5277</td><td style = \"text-align: right;\">1.38837</td><td style = \"text-align: right;\">0.0274694</td><td style = \"text-align: right;\">1.8849</td><td style = \"text-align: right;\">0.366189</td><td style = \"text-align: right;\">0.376147</td><td style = \"text-align: right;\">0.483262</td><td style = \"text-align: right;\">50.4572</td><td style = \"text-align: right;\">0.768808</td><td style = \"text-align: right;\">0.0216667</td><td style = \"text-align: right;\">0.294245</td><td style = \"text-align: right;\">809.041</td><td style = \"text-align: right;\">82.2469</td><td style = \"text-align: right;\">76.5381</td><td style = \"text-align: right;\">0.840476</td></tr><tr><td class = \"rowNumber\" style = \"font-weight: bold; text-align: right;\">11</td><td style = \"text-align: right;\">-0.3</td><td style = \"text-align: right;\">14</td><td style = \"text-align: right;\">-35.2584</td><td style = \"text-align: right;\">-46.6397</td><td style = \"text-align: right;\">1.08875e5</td><td style = \"text-align: right;\">-0.0114249</td><td style = \"text-align: right;\">-0.135</td><td style = \"text-align: left;\">sub-91</td><td style = \"text-align: left;\">RestingState</td><td style = \"text-align: right;\">0.705</td><td style = \"text-align: right;\">0.74</td><td style = \"text-align: right;\">0.788</td><td style = \"text-align: right;\">0.297143</td><td style = \"text-align: right;\">0.872</td><td style = \"text-align: right;\">0.385</td><td style = \"text-align: right;\">0.673333</td><td style = \"text-align: right;\">0.793333</td><td style = \"text-align: right;\">724.113</td><td style = \"text-align: right;\">73.5942</td><td style = \"text-align: right;\">66.5277</td><td style = \"text-align: right;\">1.38837</td><td style = \"text-align: right;\">0.0274694</td><td style = \"text-align: right;\">1.8849</td><td style = \"text-align: right;\">0.366189</td><td style = \"text-align: right;\">0.376147</td><td style = \"text-align: right;\">0.483262</td><td style = \"text-align: right;\">50.4572</td><td style = \"text-align: right;\">0.768808</td><td style = \"text-align: right;\">0.0216667</td><td style = \"text-align: right;\">0.294245</td><td style = \"text-align: right;\">809.041</td><td style = \"text-align: right;\">82.2469</td><td style = \"text-align: right;\">76.5381</td><td style = \"text-align: right;\">0.840476</td></tr><tr><td class = \"rowNumber\" style = \"font-weight: bold; text-align: right;\">12</td><td style = \"text-align: right;\">-0.29</td><td style = \"text-align: right;\">14</td><td style = \"text-align: right;\">-22.3736</td><td style = \"text-align: right;\">-20.401</td><td style = \"text-align: right;\">1.08854e5</td><td style = \"text-align: right;\">-0.009</td><td style = \"text-align: right;\">-0.135</td><td style = \"text-align: left;\">sub-91</td><td style = \"text-align: left;\">RestingState</td><td style = \"text-align: right;\">0.705</td><td style = \"text-align: right;\">0.74</td><td style = \"text-align: right;\">0.788</td><td style = \"text-align: right;\">0.297143</td><td style = \"text-align: right;\">0.872</td><td style = \"text-align: right;\">0.385</td><td style = \"text-align: right;\">0.673333</td><td style = \"text-align: right;\">0.793333</td><td style = \"text-align: right;\">724.113</td><td style = \"text-align: right;\">73.5942</td><td style = \"text-align: right;\">66.5277</td><td style = \"text-align: right;\">1.38837</td><td style = \"text-align: right;\">0.0274694</td><td style = \"text-align: right;\">1.8849</td><td style = \"text-align: right;\">0.366189</td><td style = \"text-align: right;\">0.376147</td><td style = \"text-align: right;\">0.483262</td><td style = \"text-align: right;\">50.4572</td><td style = \"text-align: right;\">0.768808</td><td style = \"text-align: right;\">0.0216667</td><td style = \"text-align: right;\">0.294245</td><td style = \"text-align: right;\">809.041</td><td style = \"text-align: right;\">82.2469</td><td style = \"text-align: right;\">76.5381</td><td style = \"text-align: right;\">0.840476</td></tr><tr><td class = \"rowNumber\" style = \"font-weight: bold; text-align: right;\">13</td><td style = \"text-align: right;\">-0.28</td><td style = \"text-align: right;\">14</td><td style = \"text-align: right;\">-8.90609</td><td style = \"text-align: right;\">-2.5027</td><td style = \"text-align: right;\">1.08851e5</td><td style = \"text-align: right;\">-0.006</td><td style = \"text-align: right;\">-0.132</td><td style = \"text-align: left;\">sub-91</td><td style = \"text-align: left;\">RestingState</td><td style = \"text-align: right;\">0.705</td><td style = \"text-align: right;\">0.74</td><td style = \"text-align: right;\">0.788</td><td style = \"text-align: right;\">0.297143</td><td style = \"text-align: right;\">0.872</td><td style = \"text-align: right;\">0.385</td><td style = \"text-align: right;\">0.673333</td><td style = \"text-align: right;\">0.793333</td><td style = \"text-align: right;\">724.113</td><td style = \"text-align: right;\">73.5942</td><td style = \"text-align: right;\">66.5277</td><td style = \"text-align: right;\">1.38837</td><td style = \"text-align: right;\">0.0274694</td><td style = \"text-align: right;\">1.8849</td><td style = \"text-align: right;\">0.366189</td><td style = \"text-align: right;\">0.376147</td><td style = \"text-align: right;\">0.483262</td><td style = \"text-align: right;\">50.4572</td><td style = \"text-align: right;\">0.768808</td><td style = \"text-align: right;\">0.0216667</td><td style = \"text-align: right;\">0.294245</td><td style = \"text-align: right;\">809.041</td><td style = \"text-align: right;\">82.2469</td><td style = \"text-align: right;\">76.5381</td><td style = \"text-align: right;\">0.840476</td></tr><tr><td style = \"text-align: right;\">&vellip;</td><td style = \"text-align: right;\">&vellip;</td><td style = \"text-align: right;\">&vellip;</td><td style = \"text-align: right;\">&vellip;</td><td style = \"text-align: right;\">&vellip;</td><td style = \"text-align: right;\">&vellip;</td><td style = \"text-align: right;\">&vellip;</td><td style = \"text-align: right;\">&vellip;</td><td style = \"text-align: right;\">&vellip;</td><td style = \"text-align: right;\">&vellip;</td><td style = \"text-align: right;\">&vellip;</td><td style = \"text-align: right;\">&vellip;</td><td style = \"text-align: right;\">&vellip;</td><td style = \"text-align: right;\">&vellip;</td><td style = \"text-align: right;\">&vellip;</td><td style = \"text-align: right;\">&vellip;</td><td style = \"text-align: right;\">&vellip;</td><td style = \"text-align: right;\">&vellip;</td><td style = \"text-align: right;\">&vellip;</td><td style = \"text-align: right;\">&vellip;</td><td style = \"text-align: right;\">&vellip;</td><td style = \"text-align: right;\">&vellip;</td><td style = \"text-align: right;\">&vellip;</td><td style = \"text-align: right;\">&vellip;</td><td style = \"text-align: right;\">&vellip;</td><td style = \"text-align: right;\">&vellip;</td><td style = \"text-align: right;\">&vellip;</td><td style = \"text-align: right;\">&vellip;</td><td style = \"text-align: right;\">&vellip;</td><td style = \"text-align: right;\">&vellip;</td><td style = \"text-align: right;\">&vellip;</td><td style = \"text-align: right;\">&vellip;</td><td style = \"text-align: right;\">&vellip;</td><td style = \"text-align: right;\">&vellip;</td><td style = \"text-align: right;\">&vellip;</td></tr><tr><td class = \"rowNumber\" style = \"font-weight: bold; text-align: right;\">9255400</td><td style = \"text-align: right;\">0.69</td><td style = \"text-align: right;\">147</td><td style = \"text-align: right;\">-4.98842</td><td style = \"text-align: right;\">0.131905</td><td style = \"text-align: right;\">91571.2</td><td style = \"text-align: right;\">-0.0460624</td><td style = \"text-align: right;\">-0.187</td><td style = \"text-align: left;\">sub-89</td><td style = \"text-align: left;\">HCT</td><td style = \"text-align: right;\">0.7675</td><td style = \"text-align: right;\">0.43</td><td style = \"text-align: right;\">0.228</td><td style = \"text-align: right;\">0.444286</td><td style = \"text-align: right;\">0.834</td><td style = \"text-align: right;\">0.31</td><td style = \"text-align: right;\">0.406667</td><td style = \"text-align: right;\">0.546667</td><td style = \"text-align: right;\">659.563</td><td style = \"text-align: right;\">44.5307</td><td style = \"text-align: right;\">20.7721</td><td style = \"text-align: right;\">1.12104</td><td style = \"text-align: right;\">0.0061245</td><td style = \"text-align: right;\">1.6559</td><td style = \"text-align: right;\">1.63323</td><td style = \"text-align: right;\">0.291086</td><td style = \"text-align: right;\">0.489114</td><td style = \"text-align: right;\">50.3667</td><td style = \"text-align: right;\">0.505216</td><td style = \"text-align: right;\">0.446667</td><td style = \"text-align: right;\">0.542857</td><td style = \"text-align: right;\">680.981</td><td style = \"text-align: right;\">36.9771</td><td style = \"text-align: right;\">20.7054</td><td style = \"text-align: right;\">0.66</td></tr><tr><td class = \"rowNumber\" style = \"font-weight: bold; text-align: right;\">9255401</td><td style = \"text-align: right;\">0.7</td><td style = \"text-align: right;\">147</td><td style = \"text-align: right;\">-11.5555</td><td style = \"text-align: right;\">0.894837</td><td style = \"text-align: right;\">91593.1</td><td style = \"text-align: right;\">0.0306921</td><td style = \"text-align: right;\">-0.19</td><td style = \"text-align: left;\">sub-89</td><td style = \"text-align: left;\">HCT</td><td style = \"text-align: right;\">0.7675</td><td style = \"text-align: right;\">0.43</td><td style = \"text-align: right;\">0.228</td><td style = \"text-align: right;\">0.444286</td><td style = \"text-align: right;\">0.834</td><td style = \"text-align: right;\">0.31</td><td style = \"text-align: right;\">0.406667</td><td style = \"text-align: right;\">0.546667</td><td style = \"text-align: right;\">659.563</td><td style = \"text-align: right;\">44.5307</td><td style = \"text-align: right;\">20.7721</td><td style = \"text-align: right;\">1.12104</td><td style = \"text-align: right;\">0.0061245</td><td style = \"text-align: right;\">1.6559</td><td style = \"text-align: right;\">1.63323</td><td style = \"text-align: right;\">0.291086</td><td style = \"text-align: right;\">0.489114</td><td style = \"text-align: right;\">50.3667</td><td style = \"text-align: right;\">0.505216</td><td style = \"text-align: right;\">0.446667</td><td style = \"text-align: right;\">0.542857</td><td style = \"text-align: right;\">680.981</td><td style = \"text-align: right;\">36.9771</td><td style = \"text-align: right;\">20.7054</td><td style = \"text-align: right;\">0.66</td></tr><tr><td class = \"rowNumber\" style = \"font-weight: bold; text-align: right;\">9255402</td><td style = \"text-align: right;\">0.71</td><td style = \"text-align: right;\">147</td><td style = \"text-align: right;\">1.61134</td><td style = \"text-align: right;\">-3.7981</td><td style = \"text-align: right;\">91620.4</td><td style = \"text-align: right;\">0.184505</td><td style = \"text-align: right;\">-0.19</td><td style = \"text-align: left;\">sub-89</td><td style = \"text-align: left;\">HCT</td><td style = \"text-align: right;\">0.7675</td><td style = \"text-align: right;\">0.43</td><td style = \"text-align: right;\">0.228</td><td style = \"text-align: right;\">0.444286</td><td style = \"text-align: right;\">0.834</td><td style = \"text-align: right;\">0.31</td><td style = \"text-align: right;\">0.406667</td><td style = \"text-align: right;\">0.546667</td><td style = \"text-align: right;\">659.563</td><td style = \"text-align: right;\">44.5307</td><td style = \"text-align: right;\">20.7721</td><td style = \"text-align: right;\">1.12104</td><td style = \"text-align: right;\">0.0061245</td><td style = \"text-align: right;\">1.6559</td><td style = \"text-align: right;\">1.63323</td><td style = \"text-align: right;\">0.291086</td><td style = \"text-align: right;\">0.489114</td><td style = \"text-align: right;\">50.3667</td><td style = \"text-align: right;\">0.505216</td><td style = \"text-align: right;\">0.446667</td><td style = \"text-align: right;\">0.542857</td><td style = \"text-align: right;\">680.981</td><td style = \"text-align: right;\">36.9771</td><td style = \"text-align: right;\">20.7054</td><td style = \"text-align: right;\">0.66</td></tr><tr><td class = \"rowNumber\" style = \"font-weight: bold; text-align: right;\">9255403</td><td style = \"text-align: right;\">0.72</td><td style = \"text-align: right;\">147</td><td style = \"text-align: right;\">7.16477</td><td style = \"text-align: right;\">-12.489</td><td style = \"text-align: right;\">91631.9</td><td style = \"text-align: right;\">0.159792</td><td style = \"text-align: right;\">-0.19</td><td style = \"text-align: left;\">sub-89</td><td style = \"text-align: left;\">HCT</td><td style = \"text-align: right;\">0.7675</td><td style = \"text-align: right;\">0.43</td><td style = \"text-align: right;\">0.228</td><td style = \"text-align: right;\">0.444286</td><td style = \"text-align: right;\">0.834</td><td style = \"text-align: right;\">0.31</td><td style = \"text-align: right;\">0.406667</td><td style = \"text-align: right;\">0.546667</td><td style = \"text-align: right;\">659.563</td><td style = \"text-align: right;\">44.5307</td><td style = \"text-align: right;\">20.7721</td><td style = \"text-align: right;\">1.12104</td><td style = \"text-align: right;\">0.0061245</td><td style = \"text-align: right;\">1.6559</td><td style = \"text-align: right;\">1.63323</td><td style = \"text-align: right;\">0.291086</td><td style = \"text-align: right;\">0.489114</td><td style = \"text-align: right;\">50.3667</td><td style = \"text-align: right;\">0.505216</td><td style = \"text-align: right;\">0.446667</td><td style = \"text-align: right;\">0.542857</td><td style = \"text-align: right;\">680.981</td><td style = \"text-align: right;\">36.9771</td><td style = \"text-align: right;\">20.7054</td><td style = \"text-align: right;\">0.66</td></tr><tr><td class = \"rowNumber\" style = \"font-weight: bold; text-align: right;\">9255404</td><td style = \"text-align: right;\">0.73</td><td style = \"text-align: right;\">147</td><td style = \"text-align: right;\">-2.53805</td><td style = \"text-align: right;\">-5.52794</td><td style = \"text-align: right;\">91632.7</td><td style = \"text-align: right;\">-0.137332</td><td style = \"text-align: right;\">-0.19</td><td style = \"text-align: left;\">sub-89</td><td style = \"text-align: left;\">HCT</td><td style = \"text-align: right;\">0.7675</td><td style = \"text-align: right;\">0.43</td><td style = \"text-align: right;\">0.228</td><td style = \"text-align: right;\">0.444286</td><td style = \"text-align: right;\">0.834</td><td style = \"text-align: right;\">0.31</td><td style = \"text-align: right;\">0.406667</td><td style = \"text-align: right;\">0.546667</td><td style = \"text-align: right;\">659.563</td><td style = \"text-align: right;\">44.5307</td><td style = \"text-align: right;\">20.7721</td><td style = \"text-align: right;\">1.12104</td><td style = \"text-align: right;\">0.0061245</td><td style = \"text-align: right;\">1.6559</td><td style = \"text-align: right;\">1.63323</td><td style = \"text-align: right;\">0.291086</td><td style = \"text-align: right;\">0.489114</td><td style = \"text-align: right;\">50.3667</td><td style = \"text-align: right;\">0.505216</td><td style = \"text-align: right;\">0.446667</td><td style = \"text-align: right;\">0.542857</td><td style = \"text-align: right;\">680.981</td><td style = \"text-align: right;\">36.9771</td><td style = \"text-align: right;\">20.7054</td><td style = \"text-align: right;\">0.66</td></tr><tr><td class = \"rowNumber\" style = \"font-weight: bold; text-align: right;\">9255405</td><td style = \"text-align: right;\">0.74</td><td style = \"text-align: right;\">147</td><td style = \"text-align: right;\">-1.4101</td><td style = \"text-align: right;\">-6.43908</td><td style = \"text-align: right;\">91629.1</td><td style = \"text-align: right;\">-0.194116</td><td style = \"text-align: right;\">-0.190942</td><td style = \"text-align: left;\">sub-89</td><td style = \"text-align: left;\">HCT</td><td style = \"text-align: right;\">0.7675</td><td style = \"text-align: right;\">0.43</td><td style = \"text-align: right;\">0.228</td><td style = \"text-align: right;\">0.444286</td><td style = \"text-align: right;\">0.834</td><td style = \"text-align: right;\">0.31</td><td style = \"text-align: right;\">0.406667</td><td style = \"text-align: right;\">0.546667</td><td style = \"text-align: right;\">659.563</td><td style = \"text-align: right;\">44.5307</td><td style = \"text-align: right;\">20.7721</td><td style = \"text-align: right;\">1.12104</td><td style = \"text-align: right;\">0.0061245</td><td style = \"text-align: right;\">1.6559</td><td style = \"text-align: right;\">1.63323</td><td style = \"text-align: right;\">0.291086</td><td style = \"text-align: right;\">0.489114</td><td style = \"text-align: right;\">50.3667</td><td style = \"text-align: right;\">0.505216</td><td style = \"text-align: right;\">0.446667</td><td style = \"text-align: right;\">0.542857</td><td style = \"text-align: right;\">680.981</td><td style = \"text-align: right;\">36.9771</td><td style = \"text-align: right;\">20.7054</td><td style = \"text-align: right;\">0.66</td></tr><tr><td class = \"rowNumber\" style = \"font-weight: bold; text-align: right;\">9255406</td><td style = \"text-align: right;\">0.75</td><td style = \"text-align: right;\">147</td><td style = \"text-align: right;\">3.43232</td><td style = \"text-align: right;\">6.43034</td><td style = \"text-align: right;\">91643.2</td><td style = \"text-align: right;\">-0.129172</td><td style = \"text-align: right;\">-0.193</td><td style = \"text-align: left;\">sub-89</td><td style = \"text-align: left;\">HCT</td><td style = \"text-align: right;\">0.7675</td><td style = \"text-align: right;\">0.43</td><td style = \"text-align: right;\">0.228</td><td style = \"text-align: right;\">0.444286</td><td style = \"text-align: right;\">0.834</td><td style = \"text-align: right;\">0.31</td><td style = \"text-align: right;\">0.406667</td><td style = \"text-align: right;\">0.546667</td><td style = \"text-align: right;\">659.563</td><td style = \"text-align: right;\">44.5307</td><td style = \"text-align: right;\">20.7721</td><td style = \"text-align: right;\">1.12104</td><td style = \"text-align: right;\">0.0061245</td><td style = \"text-align: right;\">1.6559</td><td style = \"text-align: right;\">1.63323</td><td style = \"text-align: right;\">0.291086</td><td style = \"text-align: right;\">0.489114</td><td style = \"text-align: right;\">50.3667</td><td style = \"text-align: right;\">0.505216</td><td style = \"text-align: right;\">0.446667</td><td style = \"text-align: right;\">0.542857</td><td style = \"text-align: right;\">680.981</td><td style = \"text-align: right;\">36.9771</td><td style = \"text-align: right;\">20.7054</td><td style = \"text-align: right;\">0.66</td></tr><tr><td class = \"rowNumber\" style = \"font-weight: bold; text-align: right;\">9255407</td><td style = \"text-align: right;\">0.76</td><td style = \"text-align: right;\">147</td><td style = \"text-align: right;\">-4.71537</td><td style = \"text-align: right;\">10.1547</td><td style = \"text-align: right;\">91668.6</td><td style = \"text-align: right;\">-0.0654273</td><td style = \"text-align: right;\">-0.193</td><td style = \"text-align: left;\">sub-89</td><td style = \"text-align: left;\">HCT</td><td style = \"text-align: right;\">0.7675</td><td style = \"text-align: right;\">0.43</td><td style = \"text-align: right;\">0.228</td><td style = \"text-align: right;\">0.444286</td><td style = \"text-align: right;\">0.834</td><td style = \"text-align: right;\">0.31</td><td style = \"text-align: right;\">0.406667</td><td style = \"text-align: right;\">0.546667</td><td style = \"text-align: right;\">659.563</td><td style = \"text-align: right;\">44.5307</td><td style = \"text-align: right;\">20.7721</td><td style = \"text-align: right;\">1.12104</td><td style = \"text-align: right;\">0.0061245</td><td style = \"text-align: right;\">1.6559</td><td style = \"text-align: right;\">1.63323</td><td style = \"text-align: right;\">0.291086</td><td style = \"text-align: right;\">0.489114</td><td style = \"text-align: right;\">50.3667</td><td style = \"text-align: right;\">0.505216</td><td style = \"text-align: right;\">0.446667</td><td style = \"text-align: right;\">0.542857</td><td style = \"text-align: right;\">680.981</td><td style = \"text-align: right;\">36.9771</td><td style = \"text-align: right;\">20.7054</td><td style = \"text-align: right;\">0.66</td></tr><tr><td class = \"rowNumber\" style = \"font-weight: bold; text-align: right;\">9255408</td><td style = \"text-align: right;\">0.77</td><td style = \"text-align: right;\">147</td><td style = \"text-align: right;\">-6.62034</td><td style = \"text-align: right;\">-4.30377</td><td style = \"text-align: right;\">91704.4</td><td style = \"text-align: right;\">-0.059</td><td style = \"text-align: right;\">-0.193</td><td style = \"text-align: left;\">sub-89</td><td style = \"text-align: left;\">HCT</td><td style = \"text-align: right;\">0.7675</td><td style = \"text-align: right;\">0.43</td><td style = \"text-align: right;\">0.228</td><td style = \"text-align: right;\">0.444286</td><td style = \"text-align: right;\">0.834</td><td style = \"text-align: right;\">0.31</td><td style = \"text-align: right;\">0.406667</td><td style = \"text-align: right;\">0.546667</td><td style = \"text-align: right;\">659.563</td><td style = \"text-align: right;\">44.5307</td><td style = \"text-align: right;\">20.7721</td><td style = \"text-align: right;\">1.12104</td><td style = \"text-align: right;\">0.0061245</td><td style = \"text-align: right;\">1.6559</td><td style = \"text-align: right;\">1.63323</td><td style = \"text-align: right;\">0.291086</td><td style = \"text-align: right;\">0.489114</td><td style = \"text-align: right;\">50.3667</td><td style = \"text-align: right;\">0.505216</td><td style = \"text-align: right;\">0.446667</td><td style = \"text-align: right;\">0.542857</td><td style = \"text-align: right;\">680.981</td><td style = \"text-align: right;\">36.9771</td><td style = \"text-align: right;\">20.7054</td><td style = \"text-align: right;\">0.66</td></tr><tr><td class = \"rowNumber\" style = \"font-weight: bold; text-align: right;\">9255409</td><td style = \"text-align: right;\">0.78</td><td style = \"text-align: right;\">147</td><td style = \"text-align: right;\">-13.8043</td><td style = \"text-align: right;\">5.02073</td><td style = \"text-align: right;\">91701.7</td><td style = \"text-align: right;\">-0.056</td><td style = \"text-align: right;\">-0.187</td><td style = \"text-align: left;\">sub-89</td><td style = \"text-align: left;\">HCT</td><td style = \"text-align: right;\">0.7675</td><td style = \"text-align: right;\">0.43</td><td style = \"text-align: right;\">0.228</td><td style = \"text-align: right;\">0.444286</td><td style = \"text-align: right;\">0.834</td><td style = \"text-align: right;\">0.31</td><td style = \"text-align: right;\">0.406667</td><td style = \"text-align: right;\">0.546667</td><td style = \"text-align: right;\">659.563</td><td style = \"text-align: right;\">44.5307</td><td style = \"text-align: right;\">20.7721</td><td style = \"text-align: right;\">1.12104</td><td style = \"text-align: right;\">0.0061245</td><td style = \"text-align: right;\">1.6559</td><td style = \"text-align: right;\">1.63323</td><td style = \"text-align: right;\">0.291086</td><td style = \"text-align: right;\">0.489114</td><td style = \"text-align: right;\">50.3667</td><td style = \"text-align: right;\">0.505216</td><td style = \"text-align: right;\">0.446667</td><td style = \"text-align: right;\">0.542857</td><td style = \"text-align: right;\">680.981</td><td style = \"text-align: right;\">36.9771</td><td style = \"text-align: right;\">20.7054</td><td style = \"text-align: right;\">0.66</td></tr><tr><td class = \"rowNumber\" style = \"font-weight: bold; text-align: right;\">9255410</td><td style = \"text-align: right;\">0.79</td><td style = \"text-align: right;\">147</td><td style = \"text-align: right;\">-3.52058</td><td style = \"text-align: right;\">-3.79221</td><td style = \"text-align: right;\">91697.5</td><td style = \"text-align: right;\">-0.05</td><td style = \"text-align: right;\">-0.184</td><td style = \"text-align: left;\">sub-89</td><td style = \"text-align: left;\">HCT</td><td style = \"text-align: right;\">0.7675</td><td style = \"text-align: right;\">0.43</td><td style = \"text-align: right;\">0.228</td><td style = \"text-align: right;\">0.444286</td><td style = \"text-align: right;\">0.834</td><td style = \"text-align: right;\">0.31</td><td style = \"text-align: right;\">0.406667</td><td style = \"text-align: right;\">0.546667</td><td style = \"text-align: right;\">659.563</td><td style = \"text-align: right;\">44.5307</td><td style = \"text-align: right;\">20.7721</td><td style = \"text-align: right;\">1.12104</td><td style = \"text-align: right;\">0.0061245</td><td style = \"text-align: right;\">1.6559</td><td style = \"text-align: right;\">1.63323</td><td style = \"text-align: right;\">0.291086</td><td style = \"text-align: right;\">0.489114</td><td style = \"text-align: right;\">50.3667</td><td style = \"text-align: right;\">0.505216</td><td style = \"text-align: right;\">0.446667</td><td style = \"text-align: right;\">0.542857</td><td style = \"text-align: right;\">680.981</td><td style = \"text-align: right;\">36.9771</td><td style = \"text-align: right;\">20.7054</td><td style = \"text-align: right;\">0.66</td></tr><tr><td class = \"rowNumber\" style = \"font-weight: bold; text-align: right;\">9255411</td><td style = \"text-align: right;\">0.8</td><td style = \"text-align: right;\">147</td><td style = \"text-align: right;\">-4.04415</td><td style = \"text-align: right;\">-6.79861</td><td style = \"text-align: right;\">91693.7</td><td style = \"text-align: right;\">-0.044</td><td style = \"text-align: right;\">-0.179053</td><td style = \"text-align: left;\">sub-89</td><td style = \"text-align: left;\">HCT</td><td style = \"text-align: right;\">0.7675</td><td style = \"text-align: right;\">0.43</td><td style = \"text-align: right;\">0.228</td><td style = \"text-align: right;\">0.444286</td><td style = \"text-align: right;\">0.834</td><td style = \"text-align: right;\">0.31</td><td style = \"text-align: right;\">0.406667</td><td style = \"text-align: right;\">0.546667</td><td style = \"text-align: right;\">659.563</td><td style = \"text-align: right;\">44.5307</td><td style = \"text-align: right;\">20.7721</td><td style = \"text-align: right;\">1.12104</td><td style = \"text-align: right;\">0.0061245</td><td style = \"text-align: right;\">1.6559</td><td style = \"text-align: right;\">1.63323</td><td style = \"text-align: right;\">0.291086</td><td style = \"text-align: right;\">0.489114</td><td style = \"text-align: right;\">50.3667</td><td style = \"text-align: right;\">0.505216</td><td style = \"text-align: right;\">0.446667</td><td style = \"text-align: right;\">0.542857</td><td style = \"text-align: right;\">680.981</td><td style = \"text-align: right;\">36.9771</td><td style = \"text-align: right;\">20.7054</td><td style = \"text-align: right;\">0.66</td></tr></tbody></table></div>"
      ],
      "text/latex": [
       "\\begin{tabular}{r|ccccccccc}\n",
       "\t& time & epoch & AF7 & AF8 & PPG\\_Muse & ECG & RSP & Participant & \\\\\n",
       "\t\\hline\n",
       "\t& Float64 & Int64 & Float64 & Float64 & Float64 & Float64 & Float64 & String7 & \\\\\n",
       "\t\\hline\n",
       "\t1 & -0.4 & 14 & -1.66513 & -51.3104 & 1.0878e5 & -0.029 & -0.132573 & sub-91 & $\\dots$ \\\\\n",
       "\t2 & -0.39 & 14 & -45.9361 & -97.5502 & 1.08789e5 & -0.029 & -0.135 & sub-91 & $\\dots$ \\\\\n",
       "\t3 & -0.38 & 14 & -50.9865 & -94.3602 & 1.08788e5 & -0.0314266 & -0.135 & sub-91 & $\\dots$ \\\\\n",
       "\t4 & -0.37 & 14 & -53.9315 & -109.773 & 1.08796e5 & -0.018 & -0.139 & sub-91 & $\\dots$ \\\\\n",
       "\t5 & -0.36 & 14 & -65.2803 & -106.944 & 1.08808e5 & -0.0213826 & -0.142 & sub-91 & $\\dots$ \\\\\n",
       "\t6 & -0.35 & 14 & -33.6722 & -63.2689 & 1.08828e5 & -0.021 & -0.142 & sub-91 & $\\dots$ \\\\\n",
       "\t7 & -0.34 & 14 & -49.3368 & -78.5769 & 1.08848e5 & -0.021 & -0.142 & sub-91 & $\\dots$ \\\\\n",
       "\t8 & -0.33 & 14 & -62.7101 & -89.4344 & 1.08862e5 & -0.023 & -0.142 & sub-91 & $\\dots$ \\\\\n",
       "\t9 & -0.32 & 14 & -30.315 & -60.7955 & 108850.0 & -0.018 & -0.142 & sub-91 & $\\dots$ \\\\\n",
       "\t10 & -0.31 & 14 & -25.8408 & -38.5933 & 1.08857e5 & -0.00657492 & -0.139 & sub-91 & $\\dots$ \\\\\n",
       "\t11 & -0.3 & 14 & -35.2584 & -46.6397 & 1.08875e5 & -0.0114249 & -0.135 & sub-91 & $\\dots$ \\\\\n",
       "\t12 & -0.29 & 14 & -22.3736 & -20.401 & 1.08854e5 & -0.009 & -0.135 & sub-91 & $\\dots$ \\\\\n",
       "\t13 & -0.28 & 14 & -8.90609 & -2.5027 & 1.08851e5 & -0.006 & -0.132 & sub-91 & $\\dots$ \\\\\n",
       "\t14 & -0.27 & 14 & -40.0083 & -59.6311 & 1.08869e5 & 0.0 & -0.129 & sub-91 & $\\dots$ \\\\\n",
       "\t15 & -0.26 & 14 & -11.7456 & -13.3398 & 1.08887e5 & -0.006 & -0.129 & sub-91 & $\\dots$ \\\\\n",
       "\t16 & -0.25 & 14 & -17.3779 & -8.41789 & 1.089e5 & 0.000576229 & -0.126 & sub-91 & $\\dots$ \\\\\n",
       "\t17 & -0.24 & 14 & -33.3899 & -35.9765 & 108904.0 & -0.006 & -0.122769 & sub-91 & $\\dots$ \\\\\n",
       "\t18 & -0.23 & 14 & 1.60298 & 1.37719 & 1.08912e5 & -0.00242333 & -0.121423 & sub-91 & $\\dots$ \\\\\n",
       "\t19 & -0.22 & 14 & 2.89682 & 12.5481 & 1.08916e5 & -0.00242312 & -0.119 & sub-91 & $\\dots$ \\\\\n",
       "\t20 & -0.21 & 14 & 3.69578 & 23.717 & 1.08896e5 & 0.000577102 & -0.116 & sub-91 & $\\dots$ \\\\\n",
       "\t21 & -0.2 & 14 & 15.508 & 30.6134 & 1.08919e5 & -0.012 & -0.116 & sub-91 & $\\dots$ \\\\\n",
       "\t22 & -0.19 & 14 & 38.6937 & 51.004 & 1.08964e5 & 0.0 & -0.113 & sub-91 & $\\dots$ \\\\\n",
       "\t23 & -0.18 & 14 & 34.5796 & 68.4595 & 1.09001e5 & -0.000577756 & -0.11 & sub-91 & $\\dots$ \\\\\n",
       "\t24 & -0.17 & 14 & 63.5482 & 95.312 & 1.09023e5 & 0.003 & -0.11 & sub-91 & $\\dots$ \\\\\n",
       "\t$\\dots$ & $\\dots$ & $\\dots$ & $\\dots$ & $\\dots$ & $\\dots$ & $\\dots$ & $\\dots$ & $\\dots$ &  \\\\\n",
       "\\end{tabular}\n"
      ],
      "text/plain": [
       "\u001b[1m9255411×34 DataFrame\u001b[0m\n",
       "\u001b[1m     Row \u001b[0m│\u001b[1m time    \u001b[0m\u001b[1m epoch \u001b[0m\u001b[1m AF7       \u001b[0m\u001b[1m AF8         \u001b[0m\u001b[1m PPG_Muse       \u001b[0m\u001b[1m ECG        \u001b[0m ⋯\n",
       "         │\u001b[90m Float64 \u001b[0m\u001b[90m Int64 \u001b[0m\u001b[90m Float64   \u001b[0m\u001b[90m Float64     \u001b[0m\u001b[90m Float64        \u001b[0m\u001b[90m Float64    \u001b[0m ⋯\n",
       "─────────┼──────────────────────────────────────────────────────────────────────\n",
       "       1 │   -0.4      14   -1.66513   -51.3104         1.0878e5   -0.029      ⋯\n",
       "       2 │   -0.39     14  -45.9361    -97.5502         1.08789e5  -0.029\n",
       "       3 │   -0.38     14  -50.9865    -94.3602         1.08788e5  -0.0314266\n",
       "       4 │   -0.37     14  -53.9315   -109.773          1.08796e5  -0.018\n",
       "       5 │   -0.36     14  -65.2803   -106.944          1.08808e5  -0.0213826  ⋯\n",
       "       6 │   -0.35     14  -33.6722    -63.2689         1.08828e5  -0.021\n",
       "       7 │   -0.34     14  -49.3368    -78.5769         1.08848e5  -0.021\n",
       "       8 │   -0.33     14  -62.7101    -89.4344         1.08862e5  -0.023\n",
       "    ⋮    │    ⋮       ⋮        ⋮           ⋮             ⋮              ⋮      ⋱\n",
       " 9255405 │    0.74    147   -1.4101     -6.43908    91629.1        -0.194116   ⋯\n",
       " 9255406 │    0.75    147    3.43232     6.43034    91643.2        -0.129172\n",
       " 9255407 │    0.76    147   -4.71537    10.1547     91668.6        -0.0654273\n",
       " 9255408 │    0.77    147   -6.62034    -4.30377    91704.4        -0.059\n",
       " 9255409 │    0.78    147  -13.8043      5.02073    91701.7        -0.056      ⋯\n",
       " 9255410 │    0.79    147   -3.52058    -3.79221    91697.5        -0.05\n",
       " 9255411 │    0.8     147   -4.04415    -6.79861    91693.7        -0.044\n",
       "\u001b[36m                                             28 columns and 9255396 rows omitted\u001b[0m"
      ]
     },
     "metadata": {},
     "output_type": "display_data"
    }
   ],
   "source": [
    "function load_csvs(first::Union{Int, Nothing} = nothing)\n",
    "    csvs = filter(file -> contains(file, \"data_hep\"), readdir(\"../data\", join = true))\n",
    "    hepdata = reduce(\n",
    "        vcat,\n",
    "        [CSV.read(filepath, DataFrame, types = Dict(:Condition => Symbol), missingstring = \"NA\") for filepath in csvs],\n",
    "    )\n",
    "\n",
    "    ppreq = HTTP.get(\n",
    "        \"https://raw.githubusercontent.com/RealityBending/InteroceptionPrimals/main/data/data_participants.csv\",\n",
    "    )\n",
    "    interoprimals = DataFrame(CSV.File(ppreq.body, missingstring = \"NA\"), copycols = false)\n",
    "    rename!(interoprimals, :participant_id => :Participant)\n",
    "\n",
    "    # Copy a slice for pp stats for later\n",
    "    pp_population_stats = interoprimals[:, [:Participant, :Age, :Gender]]\n",
    "\n",
    "    # We only care about MAIA, IAS, HRV and HCT, remove the rest.\n",
    "    filtered_cols = filter(\n",
    "        col ->\n",
    "            !contains(col, r\"\\d\") && (\n",
    "                col == \"Participant\" ||\n",
    "                startswith(col, \"MAIA_\") ||\n",
    "                startswith(col, \"IAS\") ||\n",
    "                startswith(col, \"HRV\") ||\n",
    "                startswith(col, \"HCT\")\n",
    "            ),\n",
    "        names(interoprimals),\n",
    "    )\n",
    "\n",
    "    filtered_intero = (@view interoprimals[!, filtered_cols])\n",
    "\n",
    "    joined = innerjoin(hepdata, filtered_intero, on = :Participant)\n",
    "    nomissing = dropmissing(joined)\n",
    "\n",
    "    summary_stats(filtered_intero, nomissing, pp_population_stats, hepdata)\n",
    "\n",
    "    if (first isa Int)\n",
    "        return first(nomissing, first)\n",
    "    else\n",
    "        return nomissing\n",
    "    end\n",
    "end\n",
    "\n",
    "df = load_csvs()\n",
    "\n",
    "println(\"PPs included: $(ppstats.included_count)\")\n",
    "println(\"PPs excluded: $(ppstats.excluded_count)\")\n",
    "println(\"Min age: $(ppstats.age.min)\")\n",
    "println(\"Max age: $(ppstats.age.max)\")\n",
    "println(\"Mean age: $(ppstats.age.mean)\")\n",
    "println(\"SD age: $(ppstats.age.std)\")\n",
    "println(\"Gender count: $(ppstats.gender)\")\n",
    "\n",
    "df\n"
   ]
  },
  {
   "cell_type": "code",
   "execution_count": 49,
   "metadata": {},
   "outputs": [
    {
     "data": {
      "text/html": [
       "<div><div style = \"float: left;\"><span>13×18 DataFrame</span></div><div style = \"clear: both;\"></div></div><div class = \"data-frame\" style = \"overflow-x: scroll;\"><table class = \"data-frame\" style = \"margin-bottom: 6px;\"><thead><tr class = \"header\"><th class = \"rowNumber\" style = \"font-weight: bold; text-align: right;\">Row</th><th style = \"text-align: left;\">Participant</th><th style = \"text-align: left;\">HRV_MeanNN</th><th style = \"text-align: left;\">HRV_SDNN</th><th style = \"text-align: left;\">HRV_RMSSD</th><th style = \"text-align: left;\">HRV_SampEn</th><th style = \"text-align: left;\">HRV_HF</th><th style = \"text-align: left;\">HRV_HFD</th><th style = \"text-align: left;\">HRV_LFHF</th><th style = \"text-align: left;\">HRV_IALS</th><th style = \"text-align: left;\">HRV_Ca</th><th style = \"text-align: left;\">HRV_AI</th><th style = \"text-align: left;\">HCT_Accuracy</th><th style = \"text-align: left;\">HCT_Sensibility</th><th style = \"text-align: left;\">HCT_Awareness</th><th style = \"text-align: left;\">HRV_MeanNN_HCT</th><th style = \"text-align: left;\">HRV_SDNN_HCT</th><th style = \"text-align: left;\">HRV_RMSSD_HCT</th><th style = \"text-align: left;\">IAS_Total</th></tr><tr class = \"subheader headerLastRow\"><th class = \"rowNumber\" style = \"font-weight: bold; text-align: right;\"></th><th title = \"String7\" style = \"text-align: left;\">String7</th><th title = \"Union{Missing, Float64}\" style = \"text-align: left;\">Float64?</th><th title = \"Union{Missing, Float64}\" style = \"text-align: left;\">Float64?</th><th title = \"Union{Missing, Float64}\" style = \"text-align: left;\">Float64?</th><th title = \"Union{Missing, Float64}\" style = \"text-align: left;\">Float64?</th><th title = \"Union{Missing, Float64}\" style = \"text-align: left;\">Float64?</th><th title = \"Union{Missing, Float64}\" style = \"text-align: left;\">Float64?</th><th title = \"Union{Missing, Float64}\" style = \"text-align: left;\">Float64?</th><th title = \"Union{Missing, Float64}\" style = \"text-align: left;\">Float64?</th><th title = \"Union{Missing, Float64}\" style = \"text-align: left;\">Float64?</th><th title = \"Union{Missing, Float64}\" style = \"text-align: left;\">Float64?</th><th title = \"Union{Missing, Float64}\" style = \"text-align: left;\">Float64?</th><th title = \"Union{Missing, Float64}\" style = \"text-align: left;\">Float64?</th><th title = \"Union{Missing, Float64}\" style = \"text-align: left;\">Float64?</th><th title = \"Union{Missing, Float64}\" style = \"text-align: left;\">Float64?</th><th title = \"Union{Missing, Float64}\" style = \"text-align: left;\">Float64?</th><th title = \"Union{Missing, Float64}\" style = \"text-align: left;\">Float64?</th><th title = \"Union{Missing, Float64}\" style = \"text-align: left;\">Float64?</th></tr></thead><tbody><tr><td class = \"rowNumber\" style = \"font-weight: bold; text-align: right;\">1</td><td style = \"text-align: left;\">sub-07</td><td style = \"text-align: right;\">708.985</td><td style = \"text-align: right;\">52.0111</td><td style = \"text-align: right;\">23.0087</td><td style = \"text-align: right;\">1.04182</td><td style = \"text-align: right;\">0.0022474</td><td style = \"text-align: right;\">1.49104</td><td style = \"text-align: right;\">5.67338</td><td style = \"text-align: right;\">0.345808</td><td style = \"text-align: right;\">0.563756</td><td style = \"text-align: right;\">50.2206</td><td style = \"text-align: right;\">0.60546</td><td style = \"text-align: right;\">0.81</td><td style = \"font-style: italic; text-align: right;\">missing</td><td style = \"text-align: right;\">704.238</td><td style = \"text-align: right;\">46.5677</td><td style = \"text-align: right;\">20.8206</td><td style = \"text-align: right;\">0.919048</td></tr><tr><td class = \"rowNumber\" style = \"font-weight: bold; text-align: right;\">2</td><td style = \"text-align: left;\">sub-09</td><td style = \"font-style: italic; text-align: right;\">missing</td><td style = \"font-style: italic; text-align: right;\">missing</td><td style = \"font-style: italic; text-align: right;\">missing</td><td style = \"font-style: italic; text-align: right;\">missing</td><td style = \"font-style: italic; text-align: right;\">missing</td><td style = \"font-style: italic; text-align: right;\">missing</td><td style = \"font-style: italic; text-align: right;\">missing</td><td style = \"font-style: italic; text-align: right;\">missing</td><td style = \"font-style: italic; text-align: right;\">missing</td><td style = \"font-style: italic; text-align: right;\">missing</td><td style = \"text-align: right;\">0.75341</td><td style = \"text-align: right;\">0.216667</td><td style = \"text-align: right;\">0.115954</td><td style = \"font-style: italic; text-align: right;\">missing</td><td style = \"font-style: italic; text-align: right;\">missing</td><td style = \"font-style: italic; text-align: right;\">missing</td><td style = \"text-align: right;\">0.587619</td></tr><tr><td class = \"rowNumber\" style = \"font-weight: bold; text-align: right;\">3</td><td style = \"text-align: left;\">sub-100</td><td style = \"text-align: right;\">491.417</td><td style = \"text-align: right;\">39.5178</td><td style = \"text-align: right;\">13.0882</td><td style = \"text-align: right;\">0.392934</td><td style = \"text-align: right;\">0.00434032</td><td style = \"text-align: right;\">1.26727</td><td style = \"text-align: right;\">7.54702</td><td style = \"text-align: right;\">0.200426</td><td style = \"text-align: right;\">0.587454</td><td style = \"text-align: right;\">50.0429</td><td style = \"text-align: right;\">0.0</td><td style = \"text-align: right;\">0.0816667</td><td style = \"font-style: italic; text-align: right;\">missing</td><td style = \"text-align: right;\">502.174</td><td style = \"text-align: right;\">27.8504</td><td style = \"text-align: right;\">9.60765</td><td style = \"text-align: right;\">0.739524</td></tr><tr><td class = \"rowNumber\" style = \"font-weight: bold; text-align: right;\">4</td><td style = \"text-align: left;\">sub-11</td><td style = \"text-align: right;\">624.518</td><td style = \"text-align: right;\">27.3093</td><td style = \"text-align: right;\">14.613</td><td style = \"text-align: right;\">1.39289</td><td style = \"text-align: right;\">0.00434389</td><td style = \"text-align: right;\">1.57621</td><td style = \"text-align: right;\">4.37752</td><td style = \"text-align: right;\">0.520694</td><td style = \"text-align: right;\">0.543171</td><td style = \"text-align: right;\">50.1477</td><td style = \"text-align: right;\">0.834906</td><td style = \"text-align: right;\">0.666667</td><td style = \"font-style: italic; text-align: right;\">missing</td><td style = \"text-align: right;\">707.287</td><td style = \"text-align: right;\">34.385</td><td style = \"text-align: right;\">24.0801</td><td style = \"text-align: right;\">0.824762</td></tr><tr><td class = \"rowNumber\" style = \"font-weight: bold; text-align: right;\">5</td><td style = \"text-align: left;\">sub-110</td><td style = \"text-align: right;\">958.072</td><td style = \"text-align: right;\">73.2936</td><td style = \"text-align: right;\">75.6814</td><td style = \"text-align: right;\">1.67819</td><td style = \"text-align: right;\">0.0301215</td><td style = \"text-align: right;\">2.01237</td><td style = \"text-align: right;\">0.192793</td><td style = \"text-align: right;\">0.435223</td><td style = \"text-align: right;\">0.533411</td><td style = \"text-align: right;\">50.2074</td><td style = \"text-align: right;\">0.0</td><td style = \"text-align: right;\">0.0116667</td><td style = \"font-style: italic; text-align: right;\">missing</td><td style = \"text-align: right;\">1000.7</td><td style = \"text-align: right;\">99.423</td><td style = \"text-align: right;\">95.3351</td><td style = \"text-align: right;\">0.60381</td></tr><tr><td class = \"rowNumber\" style = \"font-weight: bold; text-align: right;\">6</td><td style = \"text-align: left;\">sub-114</td><td style = \"text-align: right;\">882.94</td><td style = \"text-align: right;\">61.9989</td><td style = \"text-align: right;\">50.1993</td><td style = \"text-align: right;\">1.68785</td><td style = \"text-align: right;\">0.00495871</td><td style = \"text-align: right;\">1.86556</td><td style = \"text-align: right;\">1.84788</td><td style = \"text-align: right;\">0.662289</td><td style = \"text-align: right;\">0.523838</td><td style = \"text-align: right;\">50.0545</td><td style = \"text-align: right;\">0.0206948</td><td style = \"text-align: right;\">0.751667</td><td style = \"font-style: italic; text-align: right;\">missing</td><td style = \"text-align: right;\">893.644</td><td style = \"text-align: right;\">98.1567</td><td style = \"text-align: right;\">73.657</td><td style = \"text-align: right;\">0.598571</td></tr><tr><td class = \"rowNumber\" style = \"font-weight: bold; text-align: right;\">7</td><td style = \"text-align: left;\">sub-33</td><td style = \"text-align: right;\">607.093</td><td style = \"text-align: right;\">43.0798</td><td style = \"text-align: right;\">17.8338</td><td style = \"text-align: right;\">1.01346</td><td style = \"text-align: right;\">0.0012084</td><td style = \"text-align: right;\">1.53901</td><td style = \"text-align: right;\">4.37716</td><td style = \"text-align: right;\">0.45232</td><td style = \"text-align: right;\">0.522945</td><td style = \"text-align: right;\">49.8718</td><td style = \"text-align: right;\">0.565444</td><td style = \"text-align: right;\">0.0</td><td style = \"font-style: italic; text-align: right;\">missing</td><td style = \"text-align: right;\">649.494</td><td style = \"text-align: right;\">55.7509</td><td style = \"text-align: right;\">27.7514</td><td style = \"font-style: italic; text-align: right;\">missing</td></tr><tr><td class = \"rowNumber\" style = \"font-weight: bold; text-align: right;\">8</td><td style = \"text-align: left;\">sub-38</td><td style = \"font-style: italic; text-align: right;\">missing</td><td style = \"font-style: italic; text-align: right;\">missing</td><td style = \"font-style: italic; text-align: right;\">missing</td><td style = \"font-style: italic; text-align: right;\">missing</td><td style = \"font-style: italic; text-align: right;\">missing</td><td style = \"font-style: italic; text-align: right;\">missing</td><td style = \"font-style: italic; text-align: right;\">missing</td><td style = \"font-style: italic; text-align: right;\">missing</td><td style = \"font-style: italic; text-align: right;\">missing</td><td style = \"font-style: italic; text-align: right;\">missing</td><td style = \"text-align: right;\">0.855093</td><td style = \"text-align: right;\">0.395</td><td style = \"text-align: right;\">-0.0857143</td><td style = \"font-style: italic; text-align: right;\">missing</td><td style = \"font-style: italic; text-align: right;\">missing</td><td style = \"font-style: italic; text-align: right;\">missing</td><td style = \"text-align: right;\">0.578095</td></tr><tr><td class = \"rowNumber\" style = \"font-weight: bold; text-align: right;\">9</td><td style = \"text-align: left;\">sub-41</td><td style = \"text-align: right;\">670.72</td><td style = \"text-align: right;\">74.418</td><td style = \"text-align: right;\">36.9261</td><td style = \"text-align: right;\">0.751537</td><td style = \"text-align: right;\">0.00174751</td><td style = \"text-align: right;\">1.52362</td><td style = \"text-align: right;\">11.9403</td><td style = \"text-align: right;\">0.216102</td><td style = \"text-align: right;\">0.59101</td><td style = \"text-align: right;\">50.0689</td><td style = \"text-align: right;\">0.627243</td><td style = \"text-align: right;\">0.0</td><td style = \"font-style: italic; text-align: right;\">missing</td><td style = \"text-align: right;\">729.045</td><td style = \"text-align: right;\">49.0043</td><td style = \"text-align: right;\">27.0533</td><td style = \"text-align: right;\">0.670476</td></tr><tr><td class = \"rowNumber\" style = \"font-weight: bold; text-align: right;\">10</td><td style = \"text-align: left;\">sub-48</td><td style = \"text-align: right;\">992.919</td><td style = \"text-align: right;\">50.6904</td><td style = \"text-align: right;\">30.0174</td><td style = \"text-align: right;\">1.5507</td><td style = \"text-align: right;\">0.006369</td><td style = \"text-align: right;\">1.74945</td><td style = \"text-align: right;\">1.97905</td><td style = \"text-align: right;\">0.502092</td><td style = \"text-align: right;\">0.45049</td><td style = \"text-align: right;\">50.594</td><td style = \"text-align: right;\">0.87211</td><td style = \"text-align: right;\">1.0</td><td style = \"font-style: italic; text-align: right;\">missing</td><td style = \"text-align: right;\">1053.04</td><td style = \"text-align: right;\">45.7316</td><td style = \"text-align: right;\">32.5001</td><td style = \"text-align: right;\">0.685238</td></tr><tr><td class = \"rowNumber\" style = \"font-weight: bold; text-align: right;\">11</td><td style = \"text-align: left;\">sub-67</td><td style = \"text-align: right;\">819.412</td><td style = \"text-align: right;\">55.6242</td><td style = \"text-align: right;\">40.1338</td><td style = \"text-align: right;\">1.55876</td><td style = \"text-align: right;\">0.0111641</td><td style = \"text-align: right;\">1.8744</td><td style = \"text-align: right;\">0.505367</td><td style = \"text-align: right;\">0.390328</td><td style = \"text-align: right;\">0.518042</td><td style = \"text-align: right;\">49.7</td><td style = \"text-align: right;\">0.00490196</td><td style = \"text-align: right;\">0.00833333</td><td style = \"font-style: italic; text-align: right;\">missing</td><td style = \"text-align: right;\">835.131</td><td style = \"text-align: right;\">80.5945</td><td style = \"text-align: right;\">44.0457</td><td style = \"text-align: right;\">0.637143</td></tr><tr><td class = \"rowNumber\" style = \"font-weight: bold; text-align: right;\">12</td><td style = \"text-align: left;\">sub-72</td><td style = \"text-align: right;\">734.077</td><td style = \"text-align: right;\">57.5827</td><td style = \"text-align: right;\">43.3572</td><td style = \"text-align: right;\">1.57051</td><td style = \"text-align: right;\">0.014588</td><td style = \"text-align: right;\">1.79239</td><td style = \"text-align: right;\">0.931079</td><td style = \"text-align: right;\">0.398148</td><td style = \"text-align: right;\">0.485607</td><td style = \"text-align: right;\">50.3224</td><td style = \"font-style: italic; text-align: right;\">missing</td><td style = \"font-style: italic; text-align: right;\">missing</td><td style = \"font-style: italic; text-align: right;\">missing</td><td style = \"text-align: right;\">688.918</td><td style = \"text-align: right;\">54.6198</td><td style = \"text-align: right;\">23.5706</td><td style = \"text-align: right;\">0.692857</td></tr><tr><td class = \"rowNumber\" style = \"font-weight: bold; text-align: right;\">13</td><td style = \"text-align: left;\">sub-90</td><td style = \"text-align: right;\">896.124</td><td style = \"text-align: right;\">61.0655</td><td style = \"text-align: right;\">35.1894</td><td style = \"text-align: right;\">1.30271</td><td style = \"text-align: right;\">0.00399469</td><td style = \"text-align: right;\">1.62091</td><td style = \"text-align: right;\">6.97388</td><td style = \"text-align: right;\">0.436673</td><td style = \"text-align: right;\">0.533946</td><td style = \"text-align: right;\">49.7424</td><td style = \"text-align: right;\">0.113527</td><td style = \"text-align: right;\">0.833333</td><td style = \"font-style: italic; text-align: right;\">missing</td><td style = \"text-align: right;\">930.787</td><td style = \"text-align: right;\">70.253</td><td style = \"text-align: right;\">52.5669</td><td style = \"text-align: right;\">0.534286</td></tr></tbody></table></div>"
      ],
      "text/latex": [
       "\\begin{tabular}{r|cccccccc}\n",
       "\t& Participant & HRV\\_MeanNN & HRV\\_SDNN & HRV\\_RMSSD & HRV\\_SampEn & HRV\\_HF & HRV\\_HFD & \\\\\n",
       "\t\\hline\n",
       "\t& String7 & Float64? & Float64? & Float64? & Float64? & Float64? & Float64? & \\\\\n",
       "\t\\hline\n",
       "\t1 & sub-07 & 708.985 & 52.0111 & 23.0087 & 1.04182 & 0.0022474 & 1.49104 & $\\dots$ \\\\\n",
       "\t2 & sub-09 & \\emph{missing} & \\emph{missing} & \\emph{missing} & \\emph{missing} & \\emph{missing} & \\emph{missing} & $\\dots$ \\\\\n",
       "\t3 & sub-100 & 491.417 & 39.5178 & 13.0882 & 0.392934 & 0.00434032 & 1.26727 & $\\dots$ \\\\\n",
       "\t4 & sub-11 & 624.518 & 27.3093 & 14.613 & 1.39289 & 0.00434389 & 1.57621 & $\\dots$ \\\\\n",
       "\t5 & sub-110 & 958.072 & 73.2936 & 75.6814 & 1.67819 & 0.0301215 & 2.01237 & $\\dots$ \\\\\n",
       "\t6 & sub-114 & 882.94 & 61.9989 & 50.1993 & 1.68785 & 0.00495871 & 1.86556 & $\\dots$ \\\\\n",
       "\t7 & sub-33 & 607.093 & 43.0798 & 17.8338 & 1.01346 & 0.0012084 & 1.53901 & $\\dots$ \\\\\n",
       "\t8 & sub-38 & \\emph{missing} & \\emph{missing} & \\emph{missing} & \\emph{missing} & \\emph{missing} & \\emph{missing} & $\\dots$ \\\\\n",
       "\t9 & sub-41 & 670.72 & 74.418 & 36.9261 & 0.751537 & 0.00174751 & 1.52362 & $\\dots$ \\\\\n",
       "\t10 & sub-48 & 992.919 & 50.6904 & 30.0174 & 1.5507 & 0.006369 & 1.74945 & $\\dots$ \\\\\n",
       "\t11 & sub-67 & 819.412 & 55.6242 & 40.1338 & 1.55876 & 0.0111641 & 1.8744 & $\\dots$ \\\\\n",
       "\t12 & sub-72 & 734.077 & 57.5827 & 43.3572 & 1.57051 & 0.014588 & 1.79239 & $\\dots$ \\\\\n",
       "\t13 & sub-90 & 896.124 & 61.0655 & 35.1894 & 1.30271 & 0.00399469 & 1.62091 & $\\dots$ \\\\\n",
       "\\end{tabular}\n"
      ],
      "text/plain": [
       "\u001b[1m13×18 DataFrame\u001b[0m\n",
       "\u001b[1m Row \u001b[0m│\u001b[1m Participant \u001b[0m\u001b[1m HRV_MeanNN  \u001b[0m\u001b[1m HRV_SDNN     \u001b[0m\u001b[1m HRV_RMSSD    \u001b[0m\u001b[1m HRV_SampEn     \u001b[0m\u001b[1m H\u001b[0m ⋯\n",
       "     │\u001b[90m String7     \u001b[0m\u001b[90m Float64?    \u001b[0m\u001b[90m Float64?     \u001b[0m\u001b[90m Float64?     \u001b[0m\u001b[90m Float64?       \u001b[0m\u001b[90m F\u001b[0m ⋯\n",
       "─────┼──────────────────────────────────────────────────────────────────────────\n",
       "   1 │ sub-07           708.985       52.0111       23.0087        1.04182     ⋯\n",
       "   2 │ sub-09      \u001b[90m missing     \u001b[0m\u001b[90m missing      \u001b[0m\u001b[90m missing      \u001b[0m\u001b[90m missing        \u001b[0m\u001b[90m m\u001b[0m\n",
       "   3 │ sub-100          491.417       39.5178       13.0882        0.392934\n",
       "   4 │ sub-11           624.518       27.3093       14.613         1.39289\n",
       "   5 │ sub-110          958.072       73.2936       75.6814        1.67819     ⋯\n",
       "   6 │ sub-114          882.94        61.9989       50.1993        1.68785\n",
       "   7 │ sub-33           607.093       43.0798       17.8338        1.01346\n",
       "   8 │ sub-38      \u001b[90m missing     \u001b[0m\u001b[90m missing      \u001b[0m\u001b[90m missing      \u001b[0m\u001b[90m missing        \u001b[0m\u001b[90m m\u001b[0m\n",
       "   9 │ sub-41           670.72        74.418        36.9261        0.751537    ⋯\n",
       "  10 │ sub-48           992.919       50.6904       30.0174        1.5507\n",
       "  11 │ sub-67           819.412       55.6242       40.1338        1.55876\n",
       "  12 │ sub-72           734.077       57.5827       43.3572        1.57051\n",
       "  13 │ sub-90           896.124       61.0655       35.1894        1.30271     ⋯\n",
       "\u001b[36m                                                              13 columns omitted\u001b[0m"
      ]
     },
     "metadata": {},
     "output_type": "display_data"
    }
   ],
   "source": [
    "missingdf # Show participants with missing data, and the corresponding columns with missing data"
   ]
  },
  {
   "cell_type": "code",
   "execution_count": 50,
   "metadata": {},
   "outputs": [
    {
     "data": {
      "text/plain": [
       "prepare_variables (generic function with 1 method)"
      ]
     },
     "metadata": {},
     "output_type": "display_data"
    }
   ],
   "source": [
    "function prepare_variables(windowed)\n",
    "\n",
    "    # What do I groupby? Only participant has good r but bad p, Participant and epoch has bad r but good p!\n",
    "    time_grouped = groupby(windowed, [:time, :Participant])\n",
    "\n",
    "    time_combined = combine(\n",
    "        time_grouped,\n",
    "        [:AF7, :AF8] .=> mean .=> [:AF7_Mean, :AF8_Mean],\n",
    "        Cols(startswith(\"MAIA\")) .=> first,\n",
    "        Cols(startswith(\"IAS\")) .=> first,\n",
    "        Cols(startswith(\"HRV\")) .=> first,\n",
    "        Cols(startswith(\"HCT\")) .=> first,\n",
    "        renamecols = false,\n",
    "    )\n",
    "\n",
    "    participant_grouped = groupby(time_combined, :Participant)\n",
    "\n",
    "    participant_combined = combine(\n",
    "        participant_grouped,\n",
    "        [:AF7_Mean, :AF8_Mean] .=> mean,\n",
    "        Cols(startswith(\"MAIA\")) .=> first,\n",
    "        Cols(startswith(\"IAS\")) .=> first,\n",
    "        Cols(startswith(\"HRV\")) .=> first,\n",
    "        Cols(startswith(\"HCT\")) .=> first,\n",
    "        renamecols = false,\n",
    "    )\n",
    "\n",
    "    means =\n",
    "        eachcol(select(participant_combined, [:AF7_Mean, :AF8_Mean], copycols = false))\n",
    "\n",
    "    interoceptive = eachcol(\n",
    "        select(\n",
    "            participant_combined,\n",
    "            Cols(startswith(\"MAIA\"), startswith(\"IAS\"), startswith(\"HRV\"), startswith(\"HCT\")),\n",
    "            copycols = false,\n",
    "        ),\n",
    "    )\n",
    "\n",
    "    return (means, interoceptive)\n",
    "end\n"
   ]
  },
  {
   "cell_type": "code",
   "execution_count": 51,
   "metadata": {},
   "outputs": [
    {
     "data": {
      "text/plain": [
       "pairwise_correlation (generic function with 1 method)"
      ]
     },
     "metadata": {},
     "output_type": "display_data"
    }
   ],
   "source": [
    "function pairwise_correlation(\n",
    "    means,\n",
    "    interoceptive,\n",
    "    output,\n",
    "    prealloc_i;\n",
    "    i::Union{Float64, Nothing} = nothing,\n",
    "    c::Union{Symbol, Nothing} = nothing,\n",
    "    w::Union{Float64, Nothing} = nothing,\n",
    "    e::Union{Int, Nothing} = nothing,\n",
    ")\n",
    "\n",
    "    for (Parameter1, cols1) in pairs(means)\n",
    "        for (Parameter2, cols2) in pairs(interoceptive) # Correlate the AF7/8 means against each interoceptive measure\n",
    "\n",
    "            (cols1_filtered, cols2_filtered) = filter_missings(cols1, cols2)\n",
    "\n",
    "            if ((length(cols1_filtered)) === 0 || (length(cols1_filtered)) === 0)\n",
    "                continue\n",
    "            end\n",
    "\n",
    "            cor = HypothesisTests.CorrelationTest(cols1_filtered, cols2_filtered)\n",
    "\n",
    "            if (cor.r ≈ 1.0 || cor.r ≈ -1.0 || isnan(cor.r) || cor.t ≈ Inf || cor.t ≈ -Inf)\n",
    "                # Assume something's gone wrong\n",
    "                continue\n",
    "            end\n",
    "\n",
    "            pvalue = HypothesisTests.pvalue(cor)\n",
    "            (ci_lower, ci_higher) = HypothesisTests.confint(cor)\n",
    "\n",
    "            if (e === nothing) # If sliding window\n",
    "\n",
    "                output[prealloc_i[]] = CorTestResult(\n",
    "                    Parameter1 = Parameter1,\n",
    "                    Parameter2 = Parameter2,\n",
    "                    r = cor.r,\n",
    "                    abs_r = abs(cor.r),\n",
    "                    time = i,\n",
    "                    condition = c,\n",
    "                    window_size = w,\n",
    "                    p = pvalue,\n",
    "                    t = cor.t,\n",
    "                    ci_lower = ci_lower,\n",
    "                    ci_higher = ci_higher,\n",
    "                    ci = 0.95,\n",
    "                    n = cor.n,\n",
    "                    df_error = cor.n - 2, # n minus number of variables\n",
    "                )\n",
    "\n",
    "            else # If epoch analysis\n",
    "                output[prealloc_i[]] = EpochCorTestResult(\n",
    "                    Parameter1 = Parameter1,\n",
    "                    Parameter2 = Parameter2,\n",
    "                    r = cor.r,\n",
    "                    abs_r = abs(cor.r),\n",
    "                    p = pvalue,\n",
    "                    t = cor.t,\n",
    "                    ci_lower = ci_lower,\n",
    "                    ci_higher = ci_higher,\n",
    "                    ci = 0.95,\n",
    "                    n = cor.n,\n",
    "                    df_error = cor.n - 2, # n minus number of variables\n",
    "                    epoch = e,\n",
    "                )\n",
    "            end\n",
    "\n",
    "            atomic_add!(prealloc_i, 1)\n",
    "\n",
    "        end\n",
    "    end\n",
    "end"
   ]
  },
  {
   "cell_type": "code",
   "execution_count": 52,
   "metadata": {},
   "outputs": [
    {
     "data": {
      "text/html": [
       "<div><div style = \"float: left;\"><span>66438×14 DataFrame</span></div><div style = \"float: right;\"><span style = \"font-style: italic;\">66413 rows omitted</span></div><div style = \"clear: both;\"></div></div><div class = \"data-frame\" style = \"overflow-x: scroll;\"><table class = \"data-frame\" style = \"margin-bottom: 6px;\"><thead><tr class = \"header\"><th class = \"rowNumber\" style = \"font-weight: bold; text-align: right;\">Row</th><th style = \"text-align: left;\">Parameter1</th><th style = \"text-align: left;\">Parameter2</th><th style = \"text-align: left;\">r</th><th style = \"text-align: left;\">abs_r</th><th style = \"text-align: left;\">time</th><th style = \"text-align: left;\">condition</th><th style = \"text-align: left;\">window_size</th><th style = \"text-align: left;\">p</th><th style = \"text-align: left;\">t</th><th style = \"text-align: left;\">ci_lower</th><th style = \"text-align: left;\">ci_higher</th><th style = \"text-align: left;\">ci</th><th style = \"text-align: left;\">n</th><th style = \"text-align: left;\">df_error</th></tr><tr class = \"subheader headerLastRow\"><th class = \"rowNumber\" style = \"font-weight: bold; text-align: right;\"></th><th title = \"Symbol\" style = \"text-align: left;\">Symbol</th><th title = \"Symbol\" style = \"text-align: left;\">Symbol</th><th title = \"Float64\" style = \"text-align: left;\">Float64</th><th title = \"Float64\" style = \"text-align: left;\">Float64</th><th title = \"Float64\" style = \"text-align: left;\">Float64</th><th title = \"Symbol\" style = \"text-align: left;\">Symbol</th><th title = \"Float64\" style = \"text-align: left;\">Float64</th><th title = \"Float64\" style = \"text-align: left;\">Float64</th><th title = \"Float64\" style = \"text-align: left;\">Float64</th><th title = \"Float64\" style = \"text-align: left;\">Float64</th><th title = \"Float64\" style = \"text-align: left;\">Float64</th><th title = \"Float64\" style = \"text-align: left;\">Float64</th><th title = \"Int64\" style = \"text-align: left;\">Int64</th><th title = \"Int64\" style = \"text-align: left;\">Int64</th></tr></thead><tbody><tr><td class = \"rowNumber\" style = \"font-weight: bold; text-align: right;\">1</td><td style = \"text-align: left;\">AF7_Mean</td><td style = \"text-align: left;\">MAIA_Noticing</td><td style = \"text-align: right;\">-0.0467988</td><td style = \"text-align: right;\">0.0467988</td><td style = \"text-align: right;\">-0.22</td><td style = \"text-align: left;\">HCT</td><td style = \"text-align: right;\">0.175</td><td style = \"text-align: right;\">0.637108</td><td style = \"text-align: right;\">-0.473163</td><td style = \"text-align: right;\">-0.237249</td><td style = \"text-align: right;\">0.147115</td><td style = \"text-align: right;\">0.95</td><td style = \"text-align: right;\">104</td><td style = \"text-align: right;\">102</td></tr><tr><td class = \"rowNumber\" style = \"font-weight: bold; text-align: right;\">2</td><td style = \"text-align: left;\">AF7_Mean</td><td style = \"text-align: left;\">MAIA_Noticing</td><td style = \"text-align: right;\">-0.211245</td><td style = \"text-align: right;\">0.211245</td><td style = \"text-align: right;\">-0.3</td><td style = \"text-align: left;\">HCT</td><td style = \"text-align: right;\">0.1</td><td style = \"text-align: right;\">0.03135</td><td style = \"text-align: right;\">-2.18273</td><td style = \"text-align: right;\">-0.388046</td><td style = \"text-align: right;\">-0.0194479</td><td style = \"text-align: right;\">0.95</td><td style = \"text-align: right;\">104</td><td style = \"text-align: right;\">102</td></tr><tr><td class = \"rowNumber\" style = \"font-weight: bold; text-align: right;\">3</td><td style = \"text-align: left;\">AF7_Mean</td><td style = \"text-align: left;\">MAIA_Noticing</td><td style = \"text-align: right;\">0.0520345</td><td style = \"text-align: right;\">0.0520345</td><td style = \"text-align: right;\">-0.2</td><td style = \"text-align: left;\">HCT</td><td style = \"text-align: right;\">0.2</td><td style = \"text-align: right;\">0.599867</td><td style = \"text-align: right;\">0.526235</td><td style = \"text-align: right;\">-0.141977</td><td style = \"text-align: right;\">0.242196</td><td style = \"text-align: right;\">0.95</td><td style = \"text-align: right;\">104</td><td style = \"text-align: right;\">102</td></tr><tr><td class = \"rowNumber\" style = \"font-weight: bold; text-align: right;\">4</td><td style = \"text-align: left;\">AF7_Mean</td><td style = \"text-align: left;\">MAIA_NotDistracting</td><td style = \"text-align: right;\">-0.000686891</td><td style = \"text-align: right;\">0.000686891</td><td style = \"text-align: right;\">-0.22</td><td style = \"text-align: left;\">HCT</td><td style = \"text-align: right;\">0.175</td><td style = \"text-align: right;\">0.994478</td><td style = \"text-align: right;\">-0.00693726</td><td style = \"text-align: right;\">-0.19325</td><td style = \"text-align: right;\">0.191927</td><td style = \"text-align: right;\">0.95</td><td style = \"text-align: right;\">104</td><td style = \"text-align: right;\">102</td></tr><tr><td class = \"rowNumber\" style = \"font-weight: bold; text-align: right;\">5</td><td style = \"text-align: left;\">AF7_Mean</td><td style = \"text-align: left;\">MAIA_NotDistracting</td><td style = \"text-align: right;\">-0.12153</td><td style = \"text-align: right;\">0.12153</td><td style = \"text-align: right;\">-0.3</td><td style = \"text-align: left;\">HCT</td><td style = \"text-align: right;\">0.1</td><td style = \"text-align: right;\">0.219092</td><td style = \"text-align: right;\">-1.23656</td><td style = \"text-align: right;\">-0.306934</td><td style = \"text-align: right;\">0.0727615</td><td style = \"text-align: right;\">0.95</td><td style = \"text-align: right;\">104</td><td style = \"text-align: right;\">102</td></tr><tr><td class = \"rowNumber\" style = \"font-weight: bold; text-align: right;\">6</td><td style = \"text-align: left;\">AF7_Mean</td><td style = \"text-align: left;\">MAIA_NotWorrying</td><td style = \"text-align: right;\">0.0532911</td><td style = \"text-align: right;\">0.0532911</td><td style = \"text-align: right;\">-0.22</td><td style = \"text-align: left;\">HCT</td><td style = \"text-align: right;\">0.175</td><td style = \"text-align: right;\">0.591076</td><td style = \"text-align: right;\">0.538979</td><td style = \"text-align: right;\">-0.140742</td><td style = \"text-align: right;\">0.243381</td><td style = \"text-align: right;\">0.95</td><td style = \"text-align: right;\">104</td><td style = \"text-align: right;\">102</td></tr><tr><td class = \"rowNumber\" style = \"font-weight: bold; text-align: right;\">7</td><td style = \"text-align: left;\">AF7_Mean</td><td style = \"text-align: left;\">MAIA_NotWorrying</td><td style = \"text-align: right;\">0.119953</td><td style = \"text-align: right;\">0.119953</td><td style = \"text-align: right;\">-0.3</td><td style = \"text-align: left;\">HCT</td><td style = \"text-align: right;\">0.1</td><td style = \"text-align: right;\">0.225174</td><td style = \"text-align: right;\">1.22028</td><td style = \"text-align: right;\">-0.074353</td><td style = \"text-align: right;\">0.305484</td><td style = \"text-align: right;\">0.95</td><td style = \"text-align: right;\">104</td><td style = \"text-align: right;\">102</td></tr><tr><td class = \"rowNumber\" style = \"font-weight: bold; text-align: right;\">8</td><td style = \"text-align: left;\">AF7_Mean</td><td style = \"text-align: left;\">MAIA_AttentionRegulation</td><td style = \"text-align: right;\">-0.0690549</td><td style = \"text-align: right;\">0.0690549</td><td style = \"text-align: right;\">-0.22</td><td style = \"text-align: left;\">HCT</td><td style = \"text-align: right;\">0.175</td><td style = \"text-align: right;\">0.486087</td><td style = \"text-align: right;\">-0.699089</td><td style = \"text-align: right;\">-0.258209</td><td style = \"text-align: right;\">0.125198</td><td style = \"text-align: right;\">0.95</td><td style = \"text-align: right;\">104</td><td style = \"text-align: right;\">102</td></tr><tr><td class = \"rowNumber\" style = \"font-weight: bold; text-align: right;\">9</td><td style = \"text-align: left;\">AF7_Mean</td><td style = \"text-align: left;\">MAIA_EmotionalAwareness</td><td style = \"text-align: right;\">0.0103325</td><td style = \"text-align: right;\">0.0103325</td><td style = \"text-align: right;\">-0.22</td><td style = \"text-align: left;\">HCT</td><td style = \"text-align: right;\">0.175</td><td style = \"text-align: right;\">0.91709</td><td style = \"text-align: right;\">0.104359</td><td style = \"text-align: right;\">-0.182619</td><td style = \"text-align: right;\">0.202518</td><td style = \"text-align: right;\">0.95</td><td style = \"text-align: right;\">104</td><td style = \"text-align: right;\">102</td></tr><tr><td class = \"rowNumber\" style = \"font-weight: bold; text-align: right;\">10</td><td style = \"text-align: left;\">AF7_Mean</td><td style = \"text-align: left;\">MAIA_AttentionRegulation</td><td style = \"text-align: right;\">-0.108737</td><td style = \"text-align: right;\">0.108737</td><td style = \"text-align: right;\">-0.3</td><td style = \"text-align: left;\">HCT</td><td style = \"text-align: right;\">0.1</td><td style = \"text-align: right;\">0.27187</td><td style = \"text-align: right;\">-1.10474</td><td style = \"text-align: right;\">-0.295145</td><td style = \"text-align: right;\">0.0856444</td><td style = \"text-align: right;\">0.95</td><td style = \"text-align: right;\">104</td><td style = \"text-align: right;\">102</td></tr><tr><td class = \"rowNumber\" style = \"font-weight: bold; text-align: right;\">11</td><td style = \"text-align: left;\">AF7_Mean</td><td style = \"text-align: left;\">MAIA_EmotionalAwareness</td><td style = \"text-align: right;\">-0.132177</td><td style = \"text-align: right;\">0.132177</td><td style = \"text-align: right;\">-0.3</td><td style = \"text-align: left;\">HCT</td><td style = \"text-align: right;\">0.1</td><td style = \"text-align: right;\">0.181048</td><td style = \"text-align: right;\">-1.34674</td><td style = \"text-align: right;\">-0.316704</td><td style = \"text-align: right;\">0.0619889</td><td style = \"text-align: right;\">0.95</td><td style = \"text-align: right;\">104</td><td style = \"text-align: right;\">102</td></tr><tr><td class = \"rowNumber\" style = \"font-weight: bold; text-align: right;\">12</td><td style = \"text-align: left;\">AF7_Mean</td><td style = \"text-align: left;\">MAIA_SelfRegulation</td><td style = \"text-align: right;\">0.00119509</td><td style = \"text-align: right;\">0.00119509</td><td style = \"text-align: right;\">-0.22</td><td style = \"text-align: left;\">HCT</td><td style = \"text-align: right;\">0.175</td><td style = \"text-align: right;\">0.990394</td><td style = \"text-align: right;\">0.0120698</td><td style = \"text-align: right;\">-0.191437</td><td style = \"text-align: right;\">0.193739</td><td style = \"text-align: right;\">0.95</td><td style = \"text-align: right;\">104</td><td style = \"text-align: right;\">102</td></tr><tr><td class = \"rowNumber\" style = \"font-weight: bold; text-align: right;\">13</td><td style = \"text-align: left;\">AF7_Mean</td><td style = \"text-align: left;\">MAIA_SelfRegulation</td><td style = \"text-align: right;\">-0.0999377</td><td style = \"text-align: right;\">0.0999377</td><td style = \"text-align: right;\">-0.3</td><td style = \"text-align: left;\">HCT</td><td style = \"text-align: right;\">0.1</td><td style = \"text-align: right;\">0.312792</td><td style = \"text-align: right;\">-1.0144</td><td style = \"text-align: right;\">-0.287002</td><td style = \"text-align: right;\">0.0944688</td><td style = \"text-align: right;\">0.95</td><td style = \"text-align: right;\">104</td><td style = \"text-align: right;\">102</td></tr><tr><td style = \"text-align: right;\">&vellip;</td><td style = \"text-align: right;\">&vellip;</td><td style = \"text-align: right;\">&vellip;</td><td style = \"text-align: right;\">&vellip;</td><td style = \"text-align: right;\">&vellip;</td><td style = \"text-align: right;\">&vellip;</td><td style = \"text-align: right;\">&vellip;</td><td style = \"text-align: right;\">&vellip;</td><td style = \"text-align: right;\">&vellip;</td><td style = \"text-align: right;\">&vellip;</td><td style = \"text-align: right;\">&vellip;</td><td style = \"text-align: right;\">&vellip;</td><td style = \"text-align: right;\">&vellip;</td><td style = \"text-align: right;\">&vellip;</td><td style = \"text-align: right;\">&vellip;</td></tr><tr><td class = \"rowNumber\" style = \"font-weight: bold; text-align: right;\">66427</td><td style = \"text-align: left;\">AF8_Mean</td><td style = \"text-align: left;\">HRV_HF</td><td style = \"text-align: right;\">0.0705439</td><td style = \"text-align: right;\">0.0705439</td><td style = \"text-align: right;\">0.72</td><td style = \"text-align: left;\">RestingState</td><td style = \"text-align: right;\">0.075</td><td style = \"text-align: right;\">0.474548</td><td style = \"text-align: right;\">0.71773</td><td style = \"text-align: right;\">-0.122781</td><td style = \"text-align: right;\">0.258711</td><td style = \"text-align: right;\">0.95</td><td style = \"text-align: right;\">105</td><td style = \"text-align: right;\">103</td></tr><tr><td class = \"rowNumber\" style = \"font-weight: bold; text-align: right;\">66428</td><td style = \"text-align: left;\">AF8_Mean</td><td style = \"text-align: left;\">HRV_HFD</td><td style = \"text-align: right;\">-0.0172699</td><td style = \"text-align: right;\">0.0172699</td><td style = \"text-align: right;\">0.72</td><td style = \"text-align: left;\">RestingState</td><td style = \"text-align: right;\">0.075</td><td style = \"text-align: right;\">0.861191</td><td style = \"text-align: right;\">-0.175297</td><td style = \"text-align: right;\">-0.208246</td><td style = \"text-align: right;\">0.174974</td><td style = \"text-align: right;\">0.95</td><td style = \"text-align: right;\">105</td><td style = \"text-align: right;\">103</td></tr><tr><td class = \"rowNumber\" style = \"font-weight: bold; text-align: right;\">66429</td><td style = \"text-align: left;\">AF8_Mean</td><td style = \"text-align: left;\">HRV_LFHF</td><td style = \"text-align: right;\">0.107603</td><td style = \"text-align: right;\">0.107603</td><td style = \"text-align: right;\">0.72</td><td style = \"text-align: left;\">RestingState</td><td style = \"text-align: right;\">0.075</td><td style = \"text-align: right;\">0.274576</td><td style = \"text-align: right;\">1.09843</td><td style = \"text-align: right;\">-0.085832</td><td style = \"text-align: right;\">0.293221</td><td style = \"text-align: right;\">0.95</td><td style = \"text-align: right;\">105</td><td style = \"text-align: right;\">103</td></tr><tr><td class = \"rowNumber\" style = \"font-weight: bold; text-align: right;\">66430</td><td style = \"text-align: left;\">AF8_Mean</td><td style = \"text-align: left;\">HRV_IALS</td><td style = \"text-align: right;\">0.00686578</td><td style = \"text-align: right;\">0.00686578</td><td style = \"text-align: right;\">0.72</td><td style = \"text-align: left;\">RestingState</td><td style = \"text-align: right;\">0.075</td><td style = \"text-align: right;\">0.944582</td><td style = \"text-align: right;\">0.0696817</td><td style = \"text-align: right;\">-0.185043</td><td style = \"text-align: right;\">0.19827</td><td style = \"text-align: right;\">0.95</td><td style = \"text-align: right;\">105</td><td style = \"text-align: right;\">103</td></tr><tr><td class = \"rowNumber\" style = \"font-weight: bold; text-align: right;\">66431</td><td style = \"text-align: left;\">AF8_Mean</td><td style = \"text-align: left;\">HRV_Ca</td><td style = \"text-align: right;\">0.0496394</td><td style = \"text-align: right;\">0.0496394</td><td style = \"text-align: right;\">0.72</td><td style = \"text-align: left;\">RestingState</td><td style = \"text-align: right;\">0.075</td><td style = \"text-align: right;\">0.615053</td><td style = \"text-align: right;\">0.504407</td><td style = \"text-align: right;\">-0.14339</td><td style = \"text-align: right;\">0.23903</td><td style = \"text-align: right;\">0.95</td><td style = \"text-align: right;\">105</td><td style = \"text-align: right;\">103</td></tr><tr><td class = \"rowNumber\" style = \"font-weight: bold; text-align: right;\">66432</td><td style = \"text-align: left;\">AF8_Mean</td><td style = \"text-align: left;\">HRV_AI</td><td style = \"text-align: right;\">-0.0308109</td><td style = \"text-align: right;\">0.0308109</td><td style = \"text-align: right;\">0.72</td><td style = \"text-align: left;\">RestingState</td><td style = \"text-align: right;\">0.075</td><td style = \"text-align: right;\">0.755031</td><td style = \"text-align: right;\">-0.312845</td><td style = \"text-align: right;\">-0.22117</td><td style = \"text-align: right;\">0.16181</td><td style = \"text-align: right;\">0.95</td><td style = \"text-align: right;\">105</td><td style = \"text-align: right;\">103</td></tr><tr><td class = \"rowNumber\" style = \"font-weight: bold; text-align: right;\">66433</td><td style = \"text-align: left;\">AF8_Mean</td><td style = \"text-align: left;\">HRV_MeanNN_HCT</td><td style = \"text-align: right;\">0.0735277</td><td style = \"text-align: right;\">0.0735277</td><td style = \"text-align: right;\">0.72</td><td style = \"text-align: left;\">RestingState</td><td style = \"text-align: right;\">0.075</td><td style = \"text-align: right;\">0.456015</td><td style = \"text-align: right;\">0.74825</td><td style = \"text-align: right;\">-0.119826</td><td style = \"text-align: right;\">0.261508</td><td style = \"text-align: right;\">0.95</td><td style = \"text-align: right;\">105</td><td style = \"text-align: right;\">103</td></tr><tr><td class = \"rowNumber\" style = \"font-weight: bold; text-align: right;\">66434</td><td style = \"text-align: left;\">AF8_Mean</td><td style = \"text-align: left;\">HRV_SDNN_HCT</td><td style = \"text-align: right;\">0.0837653</td><td style = \"text-align: right;\">0.0837653</td><td style = \"text-align: right;\">0.72</td><td style = \"text-align: left;\">RestingState</td><td style = \"text-align: right;\">0.075</td><td style = \"text-align: right;\">0.395571</td><td style = \"text-align: right;\">0.853123</td><td style = \"text-align: right;\">-0.109661</td><td style = \"text-align: right;\">0.271078</td><td style = \"text-align: right;\">0.95</td><td style = \"text-align: right;\">105</td><td style = \"text-align: right;\">103</td></tr><tr><td class = \"rowNumber\" style = \"font-weight: bold; text-align: right;\">66435</td><td style = \"text-align: left;\">AF8_Mean</td><td style = \"text-align: left;\">HRV_RMSSD_HCT</td><td style = \"text-align: right;\">0.101719</td><td style = \"text-align: right;\">0.101719</td><td style = \"text-align: right;\">0.72</td><td style = \"text-align: left;\">RestingState</td><td style = \"text-align: right;\">0.075</td><td style = \"text-align: right;\">0.30183</td><td style = \"text-align: right;\">1.03772</td><td style = \"text-align: right;\">-0.0917344</td><td style = \"text-align: right;\">0.287774</td><td style = \"text-align: right;\">0.95</td><td style = \"text-align: right;\">105</td><td style = \"text-align: right;\">103</td></tr><tr><td class = \"rowNumber\" style = \"font-weight: bold; text-align: right;\">66436</td><td style = \"text-align: left;\">AF8_Mean</td><td style = \"text-align: left;\">HCT_Accuracy</td><td style = \"text-align: right;\">0.153261</td><td style = \"text-align: right;\">0.153261</td><td style = \"text-align: right;\">0.72</td><td style = \"text-align: left;\">RestingState</td><td style = \"text-align: right;\">0.075</td><td style = \"text-align: right;\">0.118549</td><td style = \"text-align: right;\">1.57402</td><td style = \"text-align: right;\">-0.0395668</td><td style = \"text-align: right;\">0.335083</td><td style = \"text-align: right;\">0.95</td><td style = \"text-align: right;\">105</td><td style = \"text-align: right;\">103</td></tr><tr><td class = \"rowNumber\" style = \"font-weight: bold; text-align: right;\">66437</td><td style = \"text-align: left;\">AF8_Mean</td><td style = \"text-align: left;\">HCT_Sensibility</td><td style = \"text-align: right;\">0.000805714</td><td style = \"text-align: right;\">0.000805714</td><td style = \"text-align: right;\">0.72</td><td style = \"text-align: left;\">RestingState</td><td style = \"text-align: right;\">0.075</td><td style = \"text-align: right;\">0.993492</td><td style = \"text-align: right;\">0.0081771</td><td style = \"text-align: right;\">-0.190889</td><td style = \"text-align: right;\">0.192441</td><td style = \"text-align: right;\">0.95</td><td style = \"text-align: right;\">105</td><td style = \"text-align: right;\">103</td></tr><tr><td class = \"rowNumber\" style = \"font-weight: bold; text-align: right;\">66438</td><td style = \"text-align: left;\">AF8_Mean</td><td style = \"text-align: left;\">HCT_Awareness</td><td style = \"text-align: right;\">-0.0267507</td><td style = \"text-align: right;\">0.0267507</td><td style = \"text-align: right;\">0.72</td><td style = \"text-align: left;\">RestingState</td><td style = \"text-align: right;\">0.075</td><td style = \"text-align: right;\">0.786483</td><td style = \"text-align: right;\">-0.271587</td><td style = \"text-align: right;\">-0.217302</td><td style = \"text-align: right;\">0.165764</td><td style = \"text-align: right;\">0.95</td><td style = \"text-align: right;\">105</td><td style = \"text-align: right;\">103</td></tr></tbody></table></div>"
      ],
      "text/latex": [
       "\\begin{tabular}{r|ccccccc}\n",
       "\t& Parameter1 & Parameter2 & r & abs\\_r & time & condition & \\\\\n",
       "\t\\hline\n",
       "\t& Symbol & Symbol & Float64 & Float64 & Float64 & Symbol & \\\\\n",
       "\t\\hline\n",
       "\t1 & AF7\\_Mean & MAIA\\_Noticing & -0.0467988 & 0.0467988 & -0.22 & HCT & $\\dots$ \\\\\n",
       "\t2 & AF7\\_Mean & MAIA\\_Noticing & -0.211245 & 0.211245 & -0.3 & HCT & $\\dots$ \\\\\n",
       "\t3 & AF7\\_Mean & MAIA\\_Noticing & 0.0520345 & 0.0520345 & -0.2 & HCT & $\\dots$ \\\\\n",
       "\t4 & AF7\\_Mean & MAIA\\_NotDistracting & -0.000686891 & 0.000686891 & -0.22 & HCT & $\\dots$ \\\\\n",
       "\t5 & AF7\\_Mean & MAIA\\_NotDistracting & -0.12153 & 0.12153 & -0.3 & HCT & $\\dots$ \\\\\n",
       "\t6 & AF7\\_Mean & MAIA\\_NotWorrying & 0.0532911 & 0.0532911 & -0.22 & HCT & $\\dots$ \\\\\n",
       "\t7 & AF7\\_Mean & MAIA\\_NotWorrying & 0.119953 & 0.119953 & -0.3 & HCT & $\\dots$ \\\\\n",
       "\t8 & AF7\\_Mean & MAIA\\_AttentionRegulation & -0.0690549 & 0.0690549 & -0.22 & HCT & $\\dots$ \\\\\n",
       "\t9 & AF7\\_Mean & MAIA\\_EmotionalAwareness & 0.0103325 & 0.0103325 & -0.22 & HCT & $\\dots$ \\\\\n",
       "\t10 & AF7\\_Mean & MAIA\\_AttentionRegulation & -0.108737 & 0.108737 & -0.3 & HCT & $\\dots$ \\\\\n",
       "\t11 & AF7\\_Mean & MAIA\\_EmotionalAwareness & -0.132177 & 0.132177 & -0.3 & HCT & $\\dots$ \\\\\n",
       "\t12 & AF7\\_Mean & MAIA\\_SelfRegulation & 0.00119509 & 0.00119509 & -0.22 & HCT & $\\dots$ \\\\\n",
       "\t13 & AF7\\_Mean & MAIA\\_SelfRegulation & -0.0999377 & 0.0999377 & -0.3 & HCT & $\\dots$ \\\\\n",
       "\t14 & AF7\\_Mean & MAIA\\_BodyListening & 0.0198841 & 0.0198841 & -0.22 & HCT & $\\dots$ \\\\\n",
       "\t15 & AF7\\_Mean & MAIA\\_BodyListening & -0.0220202 & 0.0220202 & -0.3 & HCT & $\\dots$ \\\\\n",
       "\t16 & AF7\\_Mean & MAIA\\_Trusting & -0.000557986 & 0.000557986 & -0.22 & HCT & $\\dots$ \\\\\n",
       "\t17 & AF7\\_Mean & MAIA\\_Trusting & -0.0236452 & 0.0236452 & -0.3 & HCT & $\\dots$ \\\\\n",
       "\t18 & AF7\\_Mean & MAIA\\_NotDistracting & -0.0514388 & 0.0514388 & -0.2 & HCT & $\\dots$ \\\\\n",
       "\t19 & AF7\\_Mean & IAS\\_Total & -0.0209747 & 0.0209747 & -0.22 & HCT & $\\dots$ \\\\\n",
       "\t20 & AF7\\_Mean & IAS\\_Total & -0.0296674 & 0.0296674 & -0.3 & HCT & $\\dots$ \\\\\n",
       "\t21 & AF7\\_Mean & MAIA\\_Noticing & -0.244763 & 0.244763 & -0.27 & HCT & $\\dots$ \\\\\n",
       "\t22 & AF7\\_Mean & HRV\\_MeanNN & 0.234936 & 0.234936 & -0.22 & HCT & $\\dots$ \\\\\n",
       "\t23 & AF7\\_Mean & HRV\\_MeanNN & -0.023916 & 0.023916 & -0.3 & HCT & $\\dots$ \\\\\n",
       "\t24 & AF7\\_Mean & HRV\\_SDNN & 0.133895 & 0.133895 & -0.22 & HCT & $\\dots$ \\\\\n",
       "\t$\\dots$ & $\\dots$ & $\\dots$ & $\\dots$ & $\\dots$ & $\\dots$ & $\\dots$ &  \\\\\n",
       "\\end{tabular}\n"
      ],
      "text/plain": [
       "\u001b[1m66438×14 DataFrame\u001b[0m\n",
       "\u001b[1m   Row \u001b[0m│\u001b[1m Parameter1 \u001b[0m\u001b[1m Parameter2               \u001b[0m\u001b[1m r            \u001b[0m\u001b[1m abs_r       \u001b[0m\u001b[1m time\u001b[0m ⋯\n",
       "       │\u001b[90m Symbol     \u001b[0m\u001b[90m Symbol                   \u001b[0m\u001b[90m Float64      \u001b[0m\u001b[90m Float64     \u001b[0m\u001b[90m Floa\u001b[0m ⋯\n",
       "───────┼────────────────────────────────────────────────────────────────────────\n",
       "     1 │ AF7_Mean    MAIA_Noticing             -0.0467988    0.0467988      -0 ⋯\n",
       "     2 │ AF7_Mean    MAIA_Noticing             -0.211245     0.211245       -0\n",
       "     3 │ AF7_Mean    MAIA_Noticing              0.0520345    0.0520345      -0\n",
       "     4 │ AF7_Mean    MAIA_NotDistracting       -0.000686891  0.000686891    -0\n",
       "     5 │ AF7_Mean    MAIA_NotDistracting       -0.12153      0.12153        -0 ⋯\n",
       "     6 │ AF7_Mean    MAIA_NotWorrying           0.0532911    0.0532911      -0\n",
       "     7 │ AF7_Mean    MAIA_NotWorrying           0.119953     0.119953       -0\n",
       "     8 │ AF7_Mean    MAIA_AttentionRegulation  -0.0690549    0.0690549      -0\n",
       "   ⋮   │     ⋮                  ⋮                   ⋮             ⋮          ⋮ ⋱\n",
       " 66432 │ AF8_Mean    HRV_AI                    -0.0308109    0.0308109       0 ⋯\n",
       " 66433 │ AF8_Mean    HRV_MeanNN_HCT             0.0735277    0.0735277       0\n",
       " 66434 │ AF8_Mean    HRV_SDNN_HCT               0.0837653    0.0837653       0\n",
       " 66435 │ AF8_Mean    HRV_RMSSD_HCT              0.101719     0.101719        0\n",
       " 66436 │ AF8_Mean    HCT_Accuracy               0.153261     0.153261        0 ⋯\n",
       " 66437 │ AF8_Mean    HCT_Sensibility            0.000805714  0.000805714     0\n",
       " 66438 │ AF8_Mean    HCT_Awareness             -0.0267507    0.0267507       0\n",
       "\u001b[36m                                               10 columns and 66423 rows omitted\u001b[0m"
      ]
     },
     "metadata": {},
     "output_type": "display_data"
    }
   ],
   "source": [
    "# 0.05 means 0.05 each side of the time point (total width 0.1)\n",
    "# Times are fractions of seconds, so 0.05 = 50ms\n",
    "window_widths = range(start = 0.05, stop = 0.2, step = 0.025)\n",
    "times = range(start = -0.4, stop = 0.8, step = 0.01)\n",
    "conditions = [:HCT, :RestingState]\n",
    "\n",
    "steps = length(window_widths) * length(conditions) * length(times) * 102 # 100 correlations for each combination, plus 2 for good luck\n",
    "\n",
    "output = Vector{CorTestResult}(undef, steps)\n",
    "prealloc_i = Threads.Atomic{Int}(1)\n",
    "\n",
    "Threads.@threads for w in window_widths\n",
    "    for c in conditions\n",
    "        for i in times\n",
    "\n",
    "            if (i - w < -0.4 || i + w > 0.8)\n",
    "                continue\n",
    "            end\n",
    "\n",
    "            windowed = (@view df[(df.time .>= (i - w) .&& df.time .< (i + w)) .&& df.Condition .=== c, :])\n",
    "\n",
    "            if (nrow(windowed) === 0)\n",
    "                # println(\"Thread $(Threads.threadid()): SKIPPED $i, $c, $w\")\n",
    "                continue\n",
    "            end\n",
    "\n",
    "            (means, interoceptive) = prepare_variables(windowed)\n",
    "\n",
    "            pairwise_correlation(means, interoceptive, output, prealloc_i; i = i, c = c, w = w)\n",
    "\n",
    "            # println(\"Thread $(Threads.threadid()): $i, $w, $c\")\n",
    "        end\n",
    "    end\n",
    "end\n",
    "\n",
    "global window_df = DataFrame(remove_undef(output))"
   ]
  },
  {
   "cell_type": "code",
   "execution_count": 53,
   "metadata": {},
   "outputs": [
    {
     "data": {
      "text/html": [
       "<div><div style = \"float: left;\"><span>23×2 DataFrame</span></div><div style = \"clear: both;\"></div></div><div class = \"data-frame\" style = \"overflow-x: scroll;\"><table class = \"data-frame\" style = \"margin-bottom: 6px;\"><thead><tr class = \"header\"><th class = \"rowNumber\" style = \"font-weight: bold; text-align: right;\">Row</th><th style = \"text-align: left;\">Parameter2</th><th style = \"text-align: left;\">count</th></tr><tr class = \"subheader headerLastRow\"><th class = \"rowNumber\" style = \"font-weight: bold; text-align: right;\"></th><th title = \"Symbol\" style = \"text-align: left;\">Symbol</th><th title = \"Int64\" style = \"text-align: left;\">Int64</th></tr></thead><tbody><tr><td class = \"rowNumber\" style = \"font-weight: bold; text-align: right;\">1</td><td style = \"text-align: left;\">MAIA_EmotionalAwareness</td><td style = \"text-align: right;\">1007</td></tr><tr><td class = \"rowNumber\" style = \"font-weight: bold; text-align: right;\">2</td><td style = \"text-align: left;\">HRV_LFHF</td><td style = \"text-align: right;\">749</td></tr><tr><td class = \"rowNumber\" style = \"font-weight: bold; text-align: right;\">3</td><td style = \"text-align: left;\">MAIA_Noticing</td><td style = \"text-align: right;\">629</td></tr><tr><td class = \"rowNumber\" style = \"font-weight: bold; text-align: right;\">4</td><td style = \"text-align: left;\">MAIA_BodyListening</td><td style = \"text-align: right;\">470</td></tr><tr><td class = \"rowNumber\" style = \"font-weight: bold; text-align: right;\">5</td><td style = \"text-align: left;\">MAIA_AttentionRegulation</td><td style = \"text-align: right;\">199</td></tr><tr><td class = \"rowNumber\" style = \"font-weight: bold; text-align: right;\">6</td><td style = \"text-align: left;\">IAS_Total</td><td style = \"text-align: right;\">172</td></tr><tr><td class = \"rowNumber\" style = \"font-weight: bold; text-align: right;\">7</td><td style = \"text-align: left;\">MAIA_SelfRegulation</td><td style = \"text-align: right;\">169</td></tr><tr><td class = \"rowNumber\" style = \"font-weight: bold; text-align: right;\">8</td><td style = \"text-align: left;\">HRV_HF</td><td style = \"text-align: right;\">166</td></tr><tr><td class = \"rowNumber\" style = \"font-weight: bold; text-align: right;\">9</td><td style = \"text-align: left;\">MAIA_NotDistracting</td><td style = \"text-align: right;\">143</td></tr><tr><td class = \"rowNumber\" style = \"font-weight: bold; text-align: right;\">10</td><td style = \"text-align: left;\">HCT_Accuracy</td><td style = \"text-align: right;\">122</td></tr><tr><td class = \"rowNumber\" style = \"font-weight: bold; text-align: right;\">11</td><td style = \"text-align: left;\">HRV_MeanNN</td><td style = \"text-align: right;\">89</td></tr><tr><td class = \"rowNumber\" style = \"font-weight: bold; text-align: right;\">12</td><td style = \"text-align: left;\">HRV_SampEn</td><td style = \"text-align: right;\">87</td></tr><tr><td class = \"rowNumber\" style = \"font-weight: bold; text-align: right;\">13</td><td style = \"text-align: left;\">HRV_Ca</td><td style = \"text-align: right;\">67</td></tr><tr><td class = \"rowNumber\" style = \"font-weight: bold; text-align: right;\">14</td><td style = \"text-align: left;\">HRV_HFD</td><td style = \"text-align: right;\">51</td></tr><tr><td class = \"rowNumber\" style = \"font-weight: bold; text-align: right;\">15</td><td style = \"text-align: left;\">HRV_MeanNN_HCT</td><td style = \"text-align: right;\">34</td></tr><tr><td class = \"rowNumber\" style = \"font-weight: bold; text-align: right;\">16</td><td style = \"text-align: left;\">HCT_Sensibility</td><td style = \"text-align: right;\">34</td></tr><tr><td class = \"rowNumber\" style = \"font-weight: bold; text-align: right;\">17</td><td style = \"text-align: left;\">MAIA_Trusting</td><td style = \"text-align: right;\">25</td></tr><tr><td class = \"rowNumber\" style = \"font-weight: bold; text-align: right;\">18</td><td style = \"text-align: left;\">HRV_AI</td><td style = \"text-align: right;\">13</td></tr><tr><td class = \"rowNumber\" style = \"font-weight: bold; text-align: right;\">19</td><td style = \"text-align: left;\">HRV_SDNN</td><td style = \"text-align: right;\">8</td></tr><tr><td class = \"rowNumber\" style = \"font-weight: bold; text-align: right;\">20</td><td style = \"text-align: left;\">HRV_SDNN_HCT</td><td style = \"text-align: right;\">8</td></tr><tr><td class = \"rowNumber\" style = \"font-weight: bold; text-align: right;\">21</td><td style = \"text-align: left;\">HCT_Awareness</td><td style = \"text-align: right;\">7</td></tr><tr><td class = \"rowNumber\" style = \"font-weight: bold; text-align: right;\">22</td><td style = \"text-align: left;\">HRV_IALS</td><td style = \"text-align: right;\">6</td></tr><tr><td class = \"rowNumber\" style = \"font-weight: bold; text-align: right;\">23</td><td style = \"text-align: left;\">HRV_RMSSD</td><td style = \"text-align: right;\">2</td></tr></tbody></table></div>"
      ],
      "text/latex": [
       "\\begin{tabular}{r|cc}\n",
       "\t& Parameter2 & count\\\\\n",
       "\t\\hline\n",
       "\t& Symbol & Int64\\\\\n",
       "\t\\hline\n",
       "\t1 & MAIA\\_EmotionalAwareness & 1007 \\\\\n",
       "\t2 & HRV\\_LFHF & 749 \\\\\n",
       "\t3 & MAIA\\_Noticing & 629 \\\\\n",
       "\t4 & MAIA\\_BodyListening & 470 \\\\\n",
       "\t5 & MAIA\\_AttentionRegulation & 199 \\\\\n",
       "\t6 & IAS\\_Total & 172 \\\\\n",
       "\t7 & MAIA\\_SelfRegulation & 169 \\\\\n",
       "\t8 & HRV\\_HF & 166 \\\\\n",
       "\t9 & MAIA\\_NotDistracting & 143 \\\\\n",
       "\t10 & HCT\\_Accuracy & 122 \\\\\n",
       "\t11 & HRV\\_MeanNN & 89 \\\\\n",
       "\t12 & HRV\\_SampEn & 87 \\\\\n",
       "\t13 & HRV\\_Ca & 67 \\\\\n",
       "\t14 & HRV\\_HFD & 51 \\\\\n",
       "\t15 & HRV\\_MeanNN\\_HCT & 34 \\\\\n",
       "\t16 & HCT\\_Sensibility & 34 \\\\\n",
       "\t17 & MAIA\\_Trusting & 25 \\\\\n",
       "\t18 & HRV\\_AI & 13 \\\\\n",
       "\t19 & HRV\\_SDNN & 8 \\\\\n",
       "\t20 & HRV\\_SDNN\\_HCT & 8 \\\\\n",
       "\t21 & HCT\\_Awareness & 7 \\\\\n",
       "\t22 & HRV\\_IALS & 6 \\\\\n",
       "\t23 & HRV\\_RMSSD & 2 \\\\\n",
       "\\end{tabular}\n"
      ],
      "text/plain": [
       "\u001b[1m23×2 DataFrame\u001b[0m\n",
       "\u001b[1m Row \u001b[0m│\u001b[1m Parameter2               \u001b[0m\u001b[1m count \u001b[0m\n",
       "     │\u001b[90m Symbol                   \u001b[0m\u001b[90m Int64 \u001b[0m\n",
       "─────┼─────────────────────────────────\n",
       "   1 │ MAIA_EmotionalAwareness    1007\n",
       "   2 │ HRV_LFHF                    749\n",
       "   3 │ MAIA_Noticing               629\n",
       "   4 │ MAIA_BodyListening          470\n",
       "   5 │ MAIA_AttentionRegulation    199\n",
       "   6 │ IAS_Total                   172\n",
       "   7 │ MAIA_SelfRegulation         169\n",
       "   8 │ HRV_HF                      166\n",
       "  ⋮  │            ⋮                ⋮\n",
       "  17 │ MAIA_Trusting                25\n",
       "  18 │ HRV_AI                       13\n",
       "  19 │ HRV_SDNN                      8\n",
       "  20 │ HRV_SDNN_HCT                  8\n",
       "  21 │ HCT_Awareness                 7\n",
       "  22 │ HRV_IALS                      6\n",
       "  23 │ HRV_RMSSD                     2\n",
       "\u001b[36m                         8 rows omitted\u001b[0m"
      ]
     },
     "metadata": {},
     "output_type": "display_data"
    }
   ],
   "source": [
    "# Count how many significant correlations there are per mean/index\n",
    "\n",
    "significant = (@view window_df[window_df.p .< 0.05, :])\n",
    "\n",
    "significance_count_total = combine(groupby(significant, [:Parameter2]), nrow => :count) # How many significant correlations in total\n",
    "\n",
    "window_significance_count = combine(groupby(significant, [:Parameter2, :window_size]), nrow => :count) # How many per window size\n",
    "\n",
    "condition_count = combine(groupby(significant, [:Parameter2, :condition]), nrow => :count) # How many per condition\n",
    "\n",
    "window_condition_count = combine(groupby(significant, [:Parameter2, :window_size, :condition]), nrow => :count) # How many per condition\n",
    "\n",
    "sort!(significance_count_total, :count, rev=true)"
   ]
  },
  {
   "cell_type": "code",
   "execution_count": 28,
   "metadata": {},
   "outputs": [
    {
     "data": {
      "text/html": [
       "<div><div style = \"float: left;\"><span>144×3 DataFrame</span></div><div style = \"float: right;\"><span style = \"font-style: italic;\">119 rows omitted</span></div><div style = \"clear: both;\"></div></div><div class = \"data-frame\" style = \"overflow-x: scroll;\"><table class = \"data-frame\" style = \"margin-bottom: 6px;\"><thead><tr class = \"header\"><th class = \"rowNumber\" style = \"font-weight: bold; text-align: right;\">Row</th><th style = \"text-align: left;\">Parameter2</th><th style = \"text-align: left;\">window_size</th><th style = \"text-align: left;\">count</th></tr><tr class = \"subheader headerLastRow\"><th class = \"rowNumber\" style = \"font-weight: bold; text-align: right;\"></th><th title = \"Symbol\" style = \"text-align: left;\">Symbol</th><th title = \"Float64\" style = \"text-align: left;\">Float64</th><th title = \"Int64\" style = \"text-align: left;\">Int64</th></tr></thead><tbody><tr><td class = \"rowNumber\" style = \"font-weight: bold; text-align: right;\">1</td><td style = \"text-align: left;\">MAIA_EmotionalAwareness</td><td style = \"text-align: right;\">0.05</td><td style = \"text-align: right;\">322</td></tr><tr><td class = \"rowNumber\" style = \"font-weight: bold; text-align: right;\">2</td><td style = \"text-align: left;\">MAIA_EmotionalAwareness</td><td style = \"text-align: right;\">0.075</td><td style = \"text-align: right;\">321</td></tr><tr><td class = \"rowNumber\" style = \"font-weight: bold; text-align: right;\">3</td><td style = \"text-align: left;\">MAIA_EmotionalAwareness</td><td style = \"text-align: right;\">0.1</td><td style = \"text-align: right;\">307</td></tr><tr><td class = \"rowNumber\" style = \"font-weight: bold; text-align: right;\">4</td><td style = \"text-align: left;\">MAIA_EmotionalAwareness</td><td style = \"text-align: right;\">0.125</td><td style = \"text-align: right;\">297</td></tr><tr><td class = \"rowNumber\" style = \"font-weight: bold; text-align: right;\">5</td><td style = \"text-align: left;\">MAIA_EmotionalAwareness</td><td style = \"text-align: right;\">0.15</td><td style = \"text-align: right;\">278</td></tr><tr><td class = \"rowNumber\" style = \"font-weight: bold; text-align: right;\">6</td><td style = \"text-align: left;\">MAIA_EmotionalAwareness</td><td style = \"text-align: right;\">0.175</td><td style = \"text-align: right;\">232</td></tr><tr><td class = \"rowNumber\" style = \"font-weight: bold; text-align: right;\">7</td><td style = \"text-align: left;\">MAIA_EmotionalAwareness</td><td style = \"text-align: right;\">0.2</td><td style = \"text-align: right;\">218</td></tr><tr><td class = \"rowNumber\" style = \"font-weight: bold; text-align: right;\">8</td><td style = \"text-align: left;\">MAIA_Noticing</td><td style = \"text-align: right;\">0.05</td><td style = \"text-align: right;\">206</td></tr><tr><td class = \"rowNumber\" style = \"font-weight: bold; text-align: right;\">9</td><td style = \"text-align: left;\">MAIA_BodyListening</td><td style = \"text-align: right;\">0.05</td><td style = \"text-align: right;\">199</td></tr><tr><td class = \"rowNumber\" style = \"font-weight: bold; text-align: right;\">10</td><td style = \"text-align: left;\">MAIA_BodyListening</td><td style = \"text-align: right;\">0.075</td><td style = \"text-align: right;\">194</td></tr><tr><td class = \"rowNumber\" style = \"font-weight: bold; text-align: right;\">11</td><td style = \"text-align: left;\">MAIA_Noticing</td><td style = \"text-align: right;\">0.075</td><td style = \"text-align: right;\">191</td></tr><tr><td class = \"rowNumber\" style = \"font-weight: bold; text-align: right;\">12</td><td style = \"text-align: left;\">MAIA_BodyListening</td><td style = \"text-align: right;\">0.125</td><td style = \"text-align: right;\">170</td></tr><tr><td class = \"rowNumber\" style = \"font-weight: bold; text-align: right;\">13</td><td style = \"text-align: left;\">MAIA_Noticing</td><td style = \"text-align: right;\">0.1</td><td style = \"text-align: right;\">168</td></tr><tr><td style = \"text-align: right;\">&vellip;</td><td style = \"text-align: right;\">&vellip;</td><td style = \"text-align: right;\">&vellip;</td><td style = \"text-align: right;\">&vellip;</td></tr><tr><td class = \"rowNumber\" style = \"font-weight: bold; text-align: right;\">133</td><td style = \"text-align: left;\">HRV_AI</td><td style = \"text-align: right;\">0.15</td><td style = \"text-align: right;\">3</td></tr><tr><td class = \"rowNumber\" style = \"font-weight: bold; text-align: right;\">134</td><td style = \"text-align: left;\">HCT_Awareness</td><td style = \"text-align: right;\">0.1</td><td style = \"text-align: right;\">3</td></tr><tr><td class = \"rowNumber\" style = \"font-weight: bold; text-align: right;\">135</td><td style = \"text-align: left;\">HRV_SDNN_HCT</td><td style = \"text-align: right;\">0.075</td><td style = \"text-align: right;\">3</td></tr><tr><td class = \"rowNumber\" style = \"font-weight: bold; text-align: right;\">136</td><td style = \"text-align: left;\">HRV_RMSSD</td><td style = \"text-align: right;\">0.175</td><td style = \"text-align: right;\">2</td></tr><tr><td class = \"rowNumber\" style = \"font-weight: bold; text-align: right;\">137</td><td style = \"text-align: left;\">HCT_Sensibility</td><td style = \"text-align: right;\">0.175</td><td style = \"text-align: right;\">2</td></tr><tr><td class = \"rowNumber\" style = \"font-weight: bold; text-align: right;\">138</td><td style = \"text-align: left;\">HCT_Awareness</td><td style = \"text-align: right;\">0.125</td><td style = \"text-align: right;\">2</td></tr><tr><td class = \"rowNumber\" style = \"font-weight: bold; text-align: right;\">139</td><td style = \"text-align: left;\">HRV_SDNN_HCT</td><td style = \"text-align: right;\">0.05</td><td style = \"text-align: right;\">2</td></tr><tr><td class = \"rowNumber\" style = \"font-weight: bold; text-align: right;\">140</td><td style = \"text-align: left;\">HCT_Awareness</td><td style = \"text-align: right;\">0.2</td><td style = \"text-align: right;\">1</td></tr><tr><td class = \"rowNumber\" style = \"font-weight: bold; text-align: right;\">141</td><td style = \"text-align: left;\">MAIA_Trusting</td><td style = \"text-align: right;\">0.175</td><td style = \"text-align: right;\">1</td></tr><tr><td class = \"rowNumber\" style = \"font-weight: bold; text-align: right;\">142</td><td style = \"text-align: left;\">HRV_SDNN_HCT</td><td style = \"text-align: right;\">0.15</td><td style = \"text-align: right;\">1</td></tr><tr><td class = \"rowNumber\" style = \"font-weight: bold; text-align: right;\">143</td><td style = \"text-align: left;\">HCT_Awareness</td><td style = \"text-align: right;\">0.075</td><td style = \"text-align: right;\">1</td></tr><tr><td class = \"rowNumber\" style = \"font-weight: bold; text-align: right;\">144</td><td style = \"text-align: left;\">HRV_SDNN</td><td style = \"text-align: right;\">0.075</td><td style = \"text-align: right;\">1</td></tr></tbody></table></div>"
      ],
      "text/latex": [
       "\\begin{tabular}{r|ccc}\n",
       "\t& Parameter2 & window\\_size & count\\\\\n",
       "\t\\hline\n",
       "\t& Symbol & Float64 & Int64\\\\\n",
       "\t\\hline\n",
       "\t1 & MAIA\\_EmotionalAwareness & 0.05 & 322 \\\\\n",
       "\t2 & MAIA\\_EmotionalAwareness & 0.075 & 321 \\\\\n",
       "\t3 & MAIA\\_EmotionalAwareness & 0.1 & 307 \\\\\n",
       "\t4 & MAIA\\_EmotionalAwareness & 0.125 & 297 \\\\\n",
       "\t5 & MAIA\\_EmotionalAwareness & 0.15 & 278 \\\\\n",
       "\t6 & MAIA\\_EmotionalAwareness & 0.175 & 232 \\\\\n",
       "\t7 & MAIA\\_EmotionalAwareness & 0.2 & 218 \\\\\n",
       "\t8 & MAIA\\_Noticing & 0.05 & 206 \\\\\n",
       "\t9 & MAIA\\_BodyListening & 0.05 & 199 \\\\\n",
       "\t10 & MAIA\\_BodyListening & 0.075 & 194 \\\\\n",
       "\t11 & MAIA\\_Noticing & 0.075 & 191 \\\\\n",
       "\t12 & MAIA\\_BodyListening & 0.125 & 170 \\\\\n",
       "\t13 & MAIA\\_Noticing & 0.1 & 168 \\\\\n",
       "\t14 & MAIA\\_BodyListening & 0.1 & 167 \\\\\n",
       "\t15 & MAIA\\_BodyListening & 0.15 & 164 \\\\\n",
       "\t16 & MAIA\\_BodyListening & 0.175 & 146 \\\\\n",
       "\t17 & MAIA\\_Noticing & 0.125 & 144 \\\\\n",
       "\t18 & MAIA\\_BodyListening & 0.2 & 131 \\\\\n",
       "\t19 & HRV\\_LFHF & 0.2 & 130 \\\\\n",
       "\t20 & HRV\\_LFHF & 0.15 & 129 \\\\\n",
       "\t21 & HRV\\_LFHF & 0.175 & 127 \\\\\n",
       "\t22 & MAIA\\_Noticing & 0.15 & 123 \\\\\n",
       "\t23 & HRV\\_LFHF & 0.1 & 117 \\\\\n",
       "\t24 & HRV\\_LFHF & 0.075 & 117 \\\\\n",
       "\t$\\dots$ & $\\dots$ & $\\dots$ & $\\dots$ \\\\\n",
       "\\end{tabular}\n"
      ],
      "text/plain": [
       "\u001b[1m144×3 DataFrame\u001b[0m\n",
       "\u001b[1m Row \u001b[0m│\u001b[1m Parameter2              \u001b[0m\u001b[1m window_size \u001b[0m\u001b[1m count \u001b[0m\n",
       "     │\u001b[90m Symbol                  \u001b[0m\u001b[90m Float64     \u001b[0m\u001b[90m Int64 \u001b[0m\n",
       "─────┼─────────────────────────────────────────────\n",
       "   1 │ MAIA_EmotionalAwareness        0.05     322\n",
       "   2 │ MAIA_EmotionalAwareness        0.075    321\n",
       "   3 │ MAIA_EmotionalAwareness        0.1      307\n",
       "   4 │ MAIA_EmotionalAwareness        0.125    297\n",
       "   5 │ MAIA_EmotionalAwareness        0.15     278\n",
       "   6 │ MAIA_EmotionalAwareness        0.175    232\n",
       "   7 │ MAIA_EmotionalAwareness        0.2      218\n",
       "   8 │ MAIA_Noticing                  0.05     206\n",
       "  ⋮  │            ⋮                  ⋮         ⋮\n",
       " 138 │ HCT_Awareness                  0.125      2\n",
       " 139 │ HRV_SDNN_HCT                   0.05       2\n",
       " 140 │ HCT_Awareness                  0.2        1\n",
       " 141 │ MAIA_Trusting                  0.175      1\n",
       " 142 │ HRV_SDNN_HCT                   0.15       1\n",
       " 143 │ HCT_Awareness                  0.075      1\n",
       " 144 │ HRV_SDNN                       0.075      1\n",
       "\u001b[36m                                   129 rows omitted\u001b[0m"
      ]
     },
     "metadata": {},
     "output_type": "display_data"
    }
   ],
   "source": [
    "sort!(window_significance_count, [:count, :window_size], rev=true)"
   ]
  },
  {
   "cell_type": "code",
   "execution_count": null,
   "metadata": {},
   "outputs": [
    {
     "data": {
      "text/plain": [
       "\"window_condition_count.csv\""
      ]
     },
     "metadata": {},
     "output_type": "display_data"
    }
   ],
   "source": [
    "sort!(condition_count, :count, rev=true)"
   ]
  },
  {
   "cell_type": "code",
   "execution_count": null,
   "metadata": {},
   "outputs": [
    {
     "data": {
      "text/html": [
       "<div><div style = \"float: left;\"><span>190×4 DataFrame</span></div><div style = \"float: right;\"><span style = \"font-style: italic;\">165 rows omitted</span></div><div style = \"clear: both;\"></div></div><div class = \"data-frame\" style = \"overflow-x: scroll;\"><table class = \"data-frame\" style = \"margin-bottom: 6px;\"><thead><tr class = \"header\"><th class = \"rowNumber\" style = \"font-weight: bold; text-align: right;\">Row</th><th style = \"text-align: left;\">Parameter2</th><th style = \"text-align: left;\">window_size</th><th style = \"text-align: left;\">condition</th><th style = \"text-align: left;\">count</th></tr><tr class = \"subheader headerLastRow\"><th class = \"rowNumber\" style = \"font-weight: bold; text-align: right;\"></th><th title = \"Symbol\" style = \"text-align: left;\">Symbol</th><th title = \"Float64\" style = \"text-align: left;\">Float64</th><th title = \"Symbol\" style = \"text-align: left;\">Symbol</th><th title = \"Int64\" style = \"text-align: left;\">Int64</th></tr></thead><tbody><tr><td class = \"rowNumber\" style = \"font-weight: bold; text-align: right;\">1</td><td style = \"text-align: left;\">HRV_LFHF</td><td style = \"text-align: right;\">0.2</td><td style = \"text-align: left;\">HCT</td><td style = \"text-align: right;\">128</td></tr><tr><td class = \"rowNumber\" style = \"font-weight: bold; text-align: right;\">2</td><td style = \"text-align: left;\">HRV_LFHF</td><td style = \"text-align: right;\">0.175</td><td style = \"text-align: left;\">HCT</td><td style = \"text-align: right;\">128</td></tr><tr><td class = \"rowNumber\" style = \"font-weight: bold; text-align: right;\">3</td><td style = \"text-align: left;\">HRV_LFHF</td><td style = \"text-align: right;\">0.15</td><td style = \"text-align: left;\">HCT</td><td style = \"text-align: right;\">119</td></tr><tr><td class = \"rowNumber\" style = \"font-weight: bold; text-align: right;\">4</td><td style = \"text-align: left;\">HRV_LFHF</td><td style = \"text-align: right;\">0.1</td><td style = \"text-align: left;\">HCT</td><td style = \"text-align: right;\">106</td></tr><tr><td class = \"rowNumber\" style = \"font-weight: bold; text-align: right;\">5</td><td style = \"text-align: left;\">HRV_LFHF</td><td style = \"text-align: right;\">0.125</td><td style = \"text-align: left;\">HCT</td><td style = \"text-align: right;\">101</td></tr><tr><td class = \"rowNumber\" style = \"font-weight: bold; text-align: right;\">6</td><td style = \"text-align: left;\">HRV_LFHF</td><td style = \"text-align: right;\">0.075</td><td style = \"text-align: left;\">HCT</td><td style = \"text-align: right;\">93</td></tr><tr><td class = \"rowNumber\" style = \"font-weight: bold; text-align: right;\">7</td><td style = \"text-align: left;\">MAIA_EmotionalAwareness</td><td style = \"text-align: right;\">0.075</td><td style = \"text-align: left;\">RestingState</td><td style = \"text-align: right;\">85</td></tr><tr><td class = \"rowNumber\" style = \"font-weight: bold; text-align: right;\">8</td><td style = \"text-align: left;\">MAIA_Noticing</td><td style = \"text-align: right;\">0.075</td><td style = \"text-align: left;\">HCT</td><td style = \"text-align: right;\">83</td></tr><tr><td class = \"rowNumber\" style = \"font-weight: bold; text-align: right;\">9</td><td style = \"text-align: left;\">MAIA_Noticing</td><td style = \"text-align: right;\">0.1</td><td style = \"text-align: left;\">HCT</td><td style = \"text-align: right;\">82</td></tr><tr><td class = \"rowNumber\" style = \"font-weight: bold; text-align: right;\">10</td><td style = \"text-align: left;\">MAIA_EmotionalAwareness</td><td style = \"text-align: right;\">0.05</td><td style = \"text-align: left;\">RestingState</td><td style = \"text-align: right;\">82</td></tr><tr><td class = \"rowNumber\" style = \"font-weight: bold; text-align: right;\">11</td><td style = \"text-align: left;\">MAIA_EmotionalAwareness</td><td style = \"text-align: right;\">0.1</td><td style = \"text-align: left;\">RestingState</td><td style = \"text-align: right;\">81</td></tr><tr><td class = \"rowNumber\" style = \"font-weight: bold; text-align: right;\">12</td><td style = \"text-align: left;\">MAIA_EmotionalAwareness</td><td style = \"text-align: right;\">0.075</td><td style = \"text-align: left;\">HCT</td><td style = \"text-align: right;\">81</td></tr><tr><td class = \"rowNumber\" style = \"font-weight: bold; text-align: right;\">13</td><td style = \"text-align: left;\">MAIA_EmotionalAwareness</td><td style = \"text-align: right;\">0.05</td><td style = \"text-align: left;\">HCT</td><td style = \"text-align: right;\">81</td></tr><tr><td style = \"text-align: right;\">&vellip;</td><td style = \"text-align: right;\">&vellip;</td><td style = \"text-align: right;\">&vellip;</td><td style = \"text-align: right;\">&vellip;</td><td style = \"text-align: right;\">&vellip;</td></tr><tr><td class = \"rowNumber\" style = \"font-weight: bold; text-align: right;\">179</td><td style = \"text-align: left;\">HRV_SDNN_HCT</td><td style = \"text-align: right;\">0.15</td><td style = \"text-align: left;\">RestingState</td><td style = \"text-align: right;\">1</td></tr><tr><td class = \"rowNumber\" style = \"font-weight: bold; text-align: right;\">180</td><td style = \"text-align: left;\">HRV_SampEn</td><td style = \"text-align: right;\">0.125</td><td style = \"text-align: left;\">RestingState</td><td style = \"text-align: right;\">1</td></tr><tr><td class = \"rowNumber\" style = \"font-weight: bold; text-align: right;\">181</td><td style = \"text-align: left;\">HRV_LFHF</td><td style = \"text-align: right;\">0.125</td><td style = \"text-align: left;\">RestingState</td><td style = \"text-align: right;\">1</td></tr><tr><td class = \"rowNumber\" style = \"font-weight: bold; text-align: right;\">182</td><td style = \"text-align: left;\">HRV_MeanNN</td><td style = \"text-align: right;\">0.1</td><td style = \"text-align: left;\">HCT</td><td style = \"text-align: right;\">1</td></tr><tr><td class = \"rowNumber\" style = \"font-weight: bold; text-align: right;\">183</td><td style = \"text-align: left;\">HRV_SampEn</td><td style = \"text-align: right;\">0.1</td><td style = \"text-align: left;\">RestingState</td><td style = \"text-align: right;\">1</td></tr><tr><td class = \"rowNumber\" style = \"font-weight: bold; text-align: right;\">184</td><td style = \"text-align: left;\">HRV_MeanNN_HCT</td><td style = \"text-align: right;\">0.1</td><td style = \"text-align: left;\">RestingState</td><td style = \"text-align: right;\">1</td></tr><tr><td class = \"rowNumber\" style = \"font-weight: bold; text-align: right;\">185</td><td style = \"text-align: left;\">HRV_SampEn</td><td style = \"text-align: right;\">0.075</td><td style = \"text-align: left;\">HCT</td><td style = \"text-align: right;\">1</td></tr><tr><td class = \"rowNumber\" style = \"font-weight: bold; text-align: right;\">186</td><td style = \"text-align: left;\">HCT_Awareness</td><td style = \"text-align: right;\">0.075</td><td style = \"text-align: left;\">RestingState</td><td style = \"text-align: right;\">1</td></tr><tr><td class = \"rowNumber\" style = \"font-weight: bold; text-align: right;\">187</td><td style = \"text-align: left;\">HRV_HF</td><td style = \"text-align: right;\">0.075</td><td style = \"text-align: left;\">RestingState</td><td style = \"text-align: right;\">1</td></tr><tr><td class = \"rowNumber\" style = \"font-weight: bold; text-align: right;\">188</td><td style = \"text-align: left;\">HRV_MeanNN</td><td style = \"text-align: right;\">0.05</td><td style = \"text-align: left;\">HCT</td><td style = \"text-align: right;\">1</td></tr><tr><td class = \"rowNumber\" style = \"font-weight: bold; text-align: right;\">189</td><td style = \"text-align: left;\">HRV_MeanNN_HCT</td><td style = \"text-align: right;\">0.05</td><td style = \"text-align: left;\">HCT</td><td style = \"text-align: right;\">1</td></tr><tr><td class = \"rowNumber\" style = \"font-weight: bold; text-align: right;\">190</td><td style = \"text-align: left;\">HRV_SDNN_HCT</td><td style = \"text-align: right;\">0.05</td><td style = \"text-align: left;\">RestingState</td><td style = \"text-align: right;\">1</td></tr></tbody></table></div>"
      ],
      "text/latex": [
       "\\begin{tabular}{r|cccc}\n",
       "\t& Parameter2 & window\\_size & condition & count\\\\\n",
       "\t\\hline\n",
       "\t& Symbol & Float64 & Symbol & Int64\\\\\n",
       "\t\\hline\n",
       "\t1 & HRV\\_LFHF & 0.2 & HCT & 128 \\\\\n",
       "\t2 & HRV\\_LFHF & 0.175 & HCT & 128 \\\\\n",
       "\t3 & HRV\\_LFHF & 0.15 & HCT & 119 \\\\\n",
       "\t4 & HRV\\_LFHF & 0.1 & HCT & 106 \\\\\n",
       "\t5 & HRV\\_LFHF & 0.125 & HCT & 101 \\\\\n",
       "\t6 & HRV\\_LFHF & 0.075 & HCT & 93 \\\\\n",
       "\t7 & MAIA\\_EmotionalAwareness & 0.075 & RestingState & 85 \\\\\n",
       "\t8 & MAIA\\_Noticing & 0.075 & HCT & 83 \\\\\n",
       "\t9 & MAIA\\_Noticing & 0.1 & HCT & 82 \\\\\n",
       "\t10 & MAIA\\_EmotionalAwareness & 0.05 & RestingState & 82 \\\\\n",
       "\t11 & MAIA\\_EmotionalAwareness & 0.1 & RestingState & 81 \\\\\n",
       "\t12 & MAIA\\_EmotionalAwareness & 0.075 & HCT & 81 \\\\\n",
       "\t13 & MAIA\\_EmotionalAwareness & 0.05 & HCT & 81 \\\\\n",
       "\t14 & MAIA\\_EmotionalAwareness & 0.1 & HCT & 80 \\\\\n",
       "\t15 & MAIA\\_Noticing & 0.125 & HCT & 78 \\\\\n",
       "\t16 & MAIA\\_EmotionalAwareness & 0.2 & HCT & 76 \\\\\n",
       "\t17 & MAIA\\_EmotionalAwareness & 0.125 & RestingState & 76 \\\\\n",
       "\t18 & MAIA\\_EmotionalAwareness & 0.125 & HCT & 75 \\\\\n",
       "\t19 & MAIA\\_Noticing & 0.05 & HCT & 74 \\\\\n",
       "\t20 & HRV\\_LFHF & 0.05 & HCT & 73 \\\\\n",
       "\t21 & MAIA\\_EmotionalAwareness & 0.175 & HCT & 70 \\\\\n",
       "\t22 & MAIA\\_Noticing & 0.15 & HCT & 69 \\\\\n",
       "\t23 & MAIA\\_EmotionalAwareness & 0.15 & RestingState & 69 \\\\\n",
       "\t24 & MAIA\\_EmotionalAwareness & 0.15 & HCT & 68 \\\\\n",
       "\t$\\dots$ & $\\dots$ & $\\dots$ & $\\dots$ & $\\dots$ \\\\\n",
       "\\end{tabular}\n"
      ],
      "text/plain": [
       "\u001b[1m190×4 DataFrame\u001b[0m\n",
       "\u001b[1m Row \u001b[0m│\u001b[1m Parameter2              \u001b[0m\u001b[1m window_size \u001b[0m\u001b[1m condition    \u001b[0m\u001b[1m count \u001b[0m\n",
       "     │\u001b[90m Symbol                  \u001b[0m\u001b[90m Float64     \u001b[0m\u001b[90m Symbol       \u001b[0m\u001b[90m Int64 \u001b[0m\n",
       "─────┼───────────────────────────────────────────────────────────\n",
       "   1 │ HRV_LFHF                       0.2    HCT             128\n",
       "   2 │ HRV_LFHF                       0.175  HCT             128\n",
       "   3 │ HRV_LFHF                       0.15   HCT             119\n",
       "   4 │ HRV_LFHF                       0.1    HCT             106\n",
       "   5 │ HRV_LFHF                       0.125  HCT             101\n",
       "   6 │ HRV_LFHF                       0.075  HCT              93\n",
       "   7 │ MAIA_EmotionalAwareness        0.075  RestingState     85\n",
       "   8 │ MAIA_Noticing                  0.075  HCT              83\n",
       "  ⋮  │            ⋮                  ⋮            ⋮          ⋮\n",
       " 184 │ HRV_MeanNN_HCT                 0.1    RestingState      1\n",
       " 185 │ HRV_SampEn                     0.075  HCT               1\n",
       " 186 │ HCT_Awareness                  0.075  RestingState      1\n",
       " 187 │ HRV_HF                         0.075  RestingState      1\n",
       " 188 │ HRV_MeanNN                     0.05   HCT               1\n",
       " 189 │ HRV_MeanNN_HCT                 0.05   HCT               1\n",
       " 190 │ HRV_SDNN_HCT                   0.05   RestingState      1\n",
       "\u001b[36m                                                 175 rows omitted\u001b[0m"
      ]
     },
     "metadata": {},
     "output_type": "display_data"
    }
   ],
   "source": [
    "sort!(window_condition_count, [:count, :window_size], rev=true)"
   ]
  },
  {
   "cell_type": "code",
   "execution_count": 54,
   "metadata": {},
   "outputs": [
    {
     "data": {
      "text/plain": [
       "epoch_stats (generic function with 1 method)"
      ]
     },
     "metadata": {},
     "output_type": "display_data"
    }
   ],
   "source": [
    "function epoch_stats(df)\n",
    "\n",
    "    grouped = groupby(df, :Participant)\n",
    "    epoch_summary = combine(grouped, :epoch => maximum => :epoch_count)\n",
    "\n",
    "    min_count = minimum(epoch_summary.epoch_count)\n",
    "    max_count = maximum(epoch_summary.epoch_count)\n",
    "    mean_count = mean(epoch_summary.epoch_count)\n",
    "    std_count = std(epoch_summary.epoch_count)\n",
    "\n",
    "    return EpochStats(min_count, max_count, mean_count, std_count)\n",
    "end"
   ]
  },
  {
   "cell_type": "code",
   "execution_count": 58,
   "metadata": {},
   "outputs": [
    {
     "data": {
      "text/html": [
       "<div><div style = \"float: left;\"><span>44268×12 DataFrame</span></div><div style = \"float: right;\"><span style = \"font-style: italic;\">44243 rows omitted</span></div><div style = \"clear: both;\"></div></div><div class = \"data-frame\" style = \"overflow-x: scroll;\"><table class = \"data-frame\" style = \"margin-bottom: 6px;\"><thead><tr class = \"header\"><th class = \"rowNumber\" style = \"font-weight: bold; text-align: right;\">Row</th><th style = \"text-align: left;\">Parameter1</th><th style = \"text-align: left;\">Parameter2</th><th style = \"text-align: left;\">r</th><th style = \"text-align: left;\">abs_r</th><th style = \"text-align: left;\">p</th><th style = \"text-align: left;\">t</th><th style = \"text-align: left;\">ci_lower</th><th style = \"text-align: left;\">ci_higher</th><th style = \"text-align: left;\">ci</th><th style = \"text-align: left;\">n</th><th style = \"text-align: left;\">df_error</th><th style = \"text-align: left;\">epoch</th></tr><tr class = \"subheader headerLastRow\"><th class = \"rowNumber\" style = \"font-weight: bold; text-align: right;\"></th><th title = \"Symbol\" style = \"text-align: left;\">Symbol</th><th title = \"Symbol\" style = \"text-align: left;\">Symbol</th><th title = \"Float64\" style = \"text-align: left;\">Float64</th><th title = \"Float64\" style = \"text-align: left;\">Float64</th><th title = \"Float64\" style = \"text-align: left;\">Float64</th><th title = \"Float64\" style = \"text-align: left;\">Float64</th><th title = \"Float64\" style = \"text-align: left;\">Float64</th><th title = \"Float64\" style = \"text-align: left;\">Float64</th><th title = \"Float64\" style = \"text-align: left;\">Float64</th><th title = \"Int64\" style = \"text-align: left;\">Int64</th><th title = \"Int64\" style = \"text-align: left;\">Int64</th><th title = \"Int64\" style = \"text-align: left;\">Int64</th></tr></thead><tbody><tr><td class = \"rowNumber\" style = \"font-weight: bold; text-align: right;\">1</td><td style = \"text-align: left;\">AF7_Mean</td><td style = \"text-align: left;\">MAIA_Noticing</td><td style = \"text-align: right;\">0.203346</td><td style = \"text-align: right;\">0.203346</td><td style = \"text-align: right;\">0.0469126</td><td style = \"text-align: right;\">2.01358</td><td style = \"text-align: right;\">0.00298151</td><td style = \"text-align: right;\">0.388013</td><td style = \"text-align: right;\">0.95</td><td style = \"text-align: right;\">96</td><td style = \"text-align: right;\">94</td><td style = \"text-align: right;\">1</td></tr><tr><td class = \"rowNumber\" style = \"font-weight: bold; text-align: right;\">2</td><td style = \"text-align: left;\">AF7_Mean</td><td style = \"text-align: left;\">MAIA_NotDistracting</td><td style = \"text-align: right;\">0.179335</td><td style = \"text-align: right;\">0.179335</td><td style = \"text-align: right;\">0.0804118</td><td style = \"text-align: right;\">1.76737</td><td style = \"text-align: right;\">-0.0219399</td><td style = \"text-align: right;\">0.366639</td><td style = \"text-align: right;\">0.95</td><td style = \"text-align: right;\">96</td><td style = \"text-align: right;\">94</td><td style = \"text-align: right;\">1</td></tr><tr><td class = \"rowNumber\" style = \"font-weight: bold; text-align: right;\">3</td><td style = \"text-align: left;\">AF7_Mean</td><td style = \"text-align: left;\">MAIA_NotWorrying</td><td style = \"text-align: right;\">-0.0252692</td><td style = \"text-align: right;\">0.0252692</td><td style = \"text-align: right;\">0.806935</td><td style = \"text-align: right;\">-0.245072</td><td style = \"text-align: right;\">-0.224617</td><td style = \"text-align: right;\">0.176109</td><td style = \"text-align: right;\">0.95</td><td style = \"text-align: right;\">96</td><td style = \"text-align: right;\">94</td><td style = \"text-align: right;\">1</td></tr><tr><td class = \"rowNumber\" style = \"font-weight: bold; text-align: right;\">4</td><td style = \"text-align: left;\">AF7_Mean</td><td style = \"text-align: left;\">MAIA_AttentionRegulation</td><td style = \"text-align: right;\">0.200858</td><td style = \"text-align: right;\">0.200858</td><td style = \"text-align: right;\">0.0497313</td><td style = \"text-align: right;\">1.98791</td><td style = \"text-align: right;\">0.000387926</td><td style = \"text-align: right;\">0.385808</td><td style = \"text-align: right;\">0.95</td><td style = \"text-align: right;\">96</td><td style = \"text-align: right;\">94</td><td style = \"text-align: right;\">1</td></tr><tr><td class = \"rowNumber\" style = \"font-weight: bold; text-align: right;\">5</td><td style = \"text-align: left;\">AF7_Mean</td><td style = \"text-align: left;\">MAIA_EmotionalAwareness</td><td style = \"text-align: right;\">0.335955</td><td style = \"text-align: right;\">0.335955</td><td style = \"text-align: right;\">0.000818764</td><td style = \"text-align: right;\">3.4582</td><td style = \"text-align: right;\">0.145252</td><td style = \"text-align: right;\">0.502589</td><td style = \"text-align: right;\">0.95</td><td style = \"text-align: right;\">96</td><td style = \"text-align: right;\">94</td><td style = \"text-align: right;\">1</td></tr><tr><td class = \"rowNumber\" style = \"font-weight: bold; text-align: right;\">6</td><td style = \"text-align: left;\">AF7_Mean</td><td style = \"text-align: left;\">MAIA_SelfRegulation</td><td style = \"text-align: right;\">0.138443</td><td style = \"text-align: right;\">0.138443</td><td style = \"text-align: right;\">0.178569</td><td style = \"text-align: right;\">1.3553</td><td style = \"text-align: right;\">-0.0638145</td><td style = \"text-align: right;\">0.329775</td><td style = \"text-align: right;\">0.95</td><td style = \"text-align: right;\">96</td><td style = \"text-align: right;\">94</td><td style = \"text-align: right;\">1</td></tr><tr><td class = \"rowNumber\" style = \"font-weight: bold; text-align: right;\">7</td><td style = \"text-align: left;\">AF7_Mean</td><td style = \"text-align: left;\">MAIA_BodyListening</td><td style = \"text-align: right;\">0.324663</td><td style = \"text-align: right;\">0.324663</td><td style = \"text-align: right;\">0.00124984</td><td style = \"text-align: right;\">3.328</td><td style = \"text-align: right;\">0.132822</td><td style = \"text-align: right;\">0.493055</td><td style = \"text-align: right;\">0.95</td><td style = \"text-align: right;\">96</td><td style = \"text-align: right;\">94</td><td style = \"text-align: right;\">1</td></tr><tr><td class = \"rowNumber\" style = \"font-weight: bold; text-align: right;\">8</td><td style = \"text-align: left;\">AF7_Mean</td><td style = \"text-align: left;\">MAIA_Trusting</td><td style = \"text-align: right;\">0.0616587</td><td style = \"text-align: right;\">0.0616587</td><td style = \"text-align: right;\">0.550652</td><td style = \"text-align: right;\">0.598943</td><td style = \"text-align: right;\">-0.140565</td><td style = \"text-align: right;\">0.258944</td><td style = \"text-align: right;\">0.95</td><td style = \"text-align: right;\">96</td><td style = \"text-align: right;\">94</td><td style = \"text-align: right;\">1</td></tr><tr><td class = \"rowNumber\" style = \"font-weight: bold; text-align: right;\">9</td><td style = \"text-align: left;\">AF7_Mean</td><td style = \"text-align: left;\">IAS_Total</td><td style = \"text-align: right;\">0.0344597</td><td style = \"text-align: right;\">0.0344597</td><td style = \"text-align: right;\">0.738899</td><td style = \"text-align: right;\">0.334298</td><td style = \"text-align: right;\">-0.167181</td><td style = \"text-align: right;\">0.233334</td><td style = \"text-align: right;\">0.95</td><td style = \"text-align: right;\">96</td><td style = \"text-align: right;\">94</td><td style = \"text-align: right;\">1</td></tr><tr><td class = \"rowNumber\" style = \"font-weight: bold; text-align: right;\">10</td><td style = \"text-align: left;\">AF7_Mean</td><td style = \"text-align: left;\">HRV_MeanNN</td><td style = \"text-align: right;\">0.110457</td><td style = \"text-align: right;\">0.110457</td><td style = \"text-align: right;\">0.284007</td><td style = \"text-align: right;\">1.07752</td><td style = \"text-align: right;\">-0.0920676</td><td style = \"text-align: right;\">0.304206</td><td style = \"text-align: right;\">0.95</td><td style = \"text-align: right;\">96</td><td style = \"text-align: right;\">94</td><td style = \"text-align: right;\">1</td></tr><tr><td class = \"rowNumber\" style = \"font-weight: bold; text-align: right;\">11</td><td style = \"text-align: left;\">AF7_Mean</td><td style = \"text-align: left;\">HRV_SDNN</td><td style = \"text-align: right;\">0.0995237</td><td style = \"text-align: right;\">0.0995237</td><td style = \"text-align: right;\">0.334668</td><td style = \"text-align: right;\">0.969733</td><td style = \"text-align: right;\">-0.103018</td><td style = \"text-align: right;\">0.294141</td><td style = \"text-align: right;\">0.95</td><td style = \"text-align: right;\">96</td><td style = \"text-align: right;\">94</td><td style = \"text-align: right;\">1</td></tr><tr><td class = \"rowNumber\" style = \"font-weight: bold; text-align: right;\">12</td><td style = \"text-align: left;\">AF7_Mean</td><td style = \"text-align: left;\">HRV_RMSSD</td><td style = \"text-align: right;\">0.0601588</td><td style = \"text-align: right;\">0.0601588</td><td style = \"text-align: right;\">0.560405</td><td style = \"text-align: right;\">0.58432</td><td style = \"text-align: right;\">-0.14204</td><td style = \"text-align: right;\">0.257539</td><td style = \"text-align: right;\">0.95</td><td style = \"text-align: right;\">96</td><td style = \"text-align: right;\">94</td><td style = \"text-align: right;\">1</td></tr><tr><td class = \"rowNumber\" style = \"font-weight: bold; text-align: right;\">13</td><td style = \"text-align: left;\">AF7_Mean</td><td style = \"text-align: left;\">HRV_SampEn</td><td style = \"text-align: right;\">-0.014953</td><td style = \"text-align: right;\">0.014953</td><td style = \"text-align: right;\">0.885029</td><td style = \"text-align: right;\">-0.144991</td><td style = \"text-align: right;\">-0.214795</td><td style = \"text-align: right;\">0.186091</td><td style = \"text-align: right;\">0.95</td><td style = \"text-align: right;\">96</td><td style = \"text-align: right;\">94</td><td style = \"text-align: right;\">1</td></tr><tr><td style = \"text-align: right;\">&vellip;</td><td style = \"text-align: right;\">&vellip;</td><td style = \"text-align: right;\">&vellip;</td><td style = \"text-align: right;\">&vellip;</td><td style = \"text-align: right;\">&vellip;</td><td style = \"text-align: right;\">&vellip;</td><td style = \"text-align: right;\">&vellip;</td><td style = \"text-align: right;\">&vellip;</td><td style = \"text-align: right;\">&vellip;</td><td style = \"text-align: right;\">&vellip;</td><td style = \"text-align: right;\">&vellip;</td><td style = \"text-align: right;\">&vellip;</td><td style = \"text-align: right;\">&vellip;</td></tr><tr><td class = \"rowNumber\" style = \"font-weight: bold; text-align: right;\">44257</td><td style = \"text-align: left;\">AF8_Mean</td><td style = \"text-align: left;\">HRV_HF</td><td style = \"text-align: right;\">-0.0307902</td><td style = \"text-align: right;\">0.0307902</td><td style = \"text-align: right;\">0.755191</td><td style = \"text-align: right;\">-0.312634</td><td style = \"text-align: right;\">-0.22115</td><td style = \"text-align: right;\">0.16183</td><td style = \"text-align: right;\">0.95</td><td style = \"text-align: right;\">105</td><td style = \"text-align: right;\">103</td><td style = \"text-align: right;\">889</td></tr><tr><td class = \"rowNumber\" style = \"font-weight: bold; text-align: right;\">44258</td><td style = \"text-align: left;\">AF8_Mean</td><td style = \"text-align: left;\">HRV_HFD</td><td style = \"text-align: right;\">0.0188533</td><td style = \"text-align: right;\">0.0188533</td><td style = \"text-align: right;\">0.848609</td><td style = \"text-align: right;\">0.191374</td><td style = \"text-align: right;\">-0.173439</td><td style = \"text-align: right;\">0.209761</td><td style = \"text-align: right;\">0.95</td><td style = \"text-align: right;\">105</td><td style = \"text-align: right;\">103</td><td style = \"text-align: right;\">889</td></tr><tr><td class = \"rowNumber\" style = \"font-weight: bold; text-align: right;\">44259</td><td style = \"text-align: left;\">AF8_Mean</td><td style = \"text-align: left;\">HRV_LFHF</td><td style = \"text-align: right;\">0.0823943</td><td style = \"text-align: right;\">0.0823943</td><td style = \"text-align: right;\">0.403377</td><td style = \"text-align: right;\">0.839063</td><td style = \"text-align: right;\">-0.111024</td><td style = \"text-align: right;\">0.269799</td><td style = \"text-align: right;\">0.95</td><td style = \"text-align: right;\">105</td><td style = \"text-align: right;\">103</td><td style = \"text-align: right;\">889</td></tr><tr><td class = \"rowNumber\" style = \"font-weight: bold; text-align: right;\">44260</td><td style = \"text-align: left;\">AF8_Mean</td><td style = \"text-align: left;\">HRV_IALS</td><td style = \"text-align: right;\">0.0929549</td><td style = \"text-align: right;\">0.0929549</td><td style = \"text-align: right;\">0.345606</td><td style = \"text-align: right;\">0.947492</td><td style = \"text-align: right;\">-0.100501</td><td style = \"text-align: right;\">0.279638</td><td style = \"text-align: right;\">0.95</td><td style = \"text-align: right;\">105</td><td style = \"text-align: right;\">103</td><td style = \"text-align: right;\">889</td></tr><tr><td class = \"rowNumber\" style = \"font-weight: bold; text-align: right;\">44261</td><td style = \"text-align: left;\">AF8_Mean</td><td style = \"text-align: left;\">HRV_Ca</td><td style = \"text-align: right;\">-0.0792505</td><td style = \"text-align: right;\">0.0792505</td><td style = \"text-align: right;\">0.421616</td><td style = \"text-align: right;\">-0.806843</td><td style = \"text-align: right;\">-0.266862</td><td style = \"text-align: right;\">0.114149</td><td style = \"text-align: right;\">0.95</td><td style = \"text-align: right;\">105</td><td style = \"text-align: right;\">103</td><td style = \"text-align: right;\">889</td></tr><tr><td class = \"rowNumber\" style = \"font-weight: bold; text-align: right;\">44262</td><td style = \"text-align: left;\">AF8_Mean</td><td style = \"text-align: left;\">HRV_AI</td><td style = \"text-align: right;\">0.0221013</td><td style = \"text-align: right;\">0.0221013</td><td style = \"text-align: right;\">0.822923</td><td style = \"text-align: right;\">0.224358</td><td style = \"text-align: right;\">-0.170285</td><td style = \"text-align: right;\">0.212865</td><td style = \"text-align: right;\">0.95</td><td style = \"text-align: right;\">105</td><td style = \"text-align: right;\">103</td><td style = \"text-align: right;\">889</td></tr><tr><td class = \"rowNumber\" style = \"font-weight: bold; text-align: right;\">44263</td><td style = \"text-align: left;\">AF8_Mean</td><td style = \"text-align: left;\">HRV_MeanNN_HCT</td><td style = \"text-align: right;\">0.00471111</td><td style = \"text-align: right;\">0.00471111</td><td style = \"text-align: right;\">0.961958</td><td style = \"text-align: right;\">0.0478131</td><td style = \"text-align: right;\">-0.187123</td><td style = \"text-align: right;\">0.196199</td><td style = \"text-align: right;\">0.95</td><td style = \"text-align: right;\">105</td><td style = \"text-align: right;\">103</td><td style = \"text-align: right;\">889</td></tr><tr><td class = \"rowNumber\" style = \"font-weight: bold; text-align: right;\">44264</td><td style = \"text-align: left;\">AF8_Mean</td><td style = \"text-align: left;\">HRV_SDNN_HCT</td><td style = \"text-align: right;\">0.060678</td><td style = \"text-align: right;\">0.060678</td><td style = \"text-align: right;\">0.538629</td><td style = \"text-align: right;\">0.616951</td><td style = \"text-align: right;\">-0.132529</td><td style = \"text-align: right;\">0.249442</td><td style = \"text-align: right;\">0.95</td><td style = \"text-align: right;\">105</td><td style = \"text-align: right;\">103</td><td style = \"text-align: right;\">889</td></tr><tr><td class = \"rowNumber\" style = \"font-weight: bold; text-align: right;\">44265</td><td style = \"text-align: left;\">AF8_Mean</td><td style = \"text-align: left;\">HRV_RMSSD_HCT</td><td style = \"text-align: right;\">0.0370215</td><td style = \"text-align: right;\">0.0370215</td><td style = \"text-align: right;\">0.707701</td><td style = \"text-align: right;\">0.375985</td><td style = \"text-align: right;\">-0.155749</td><td style = \"text-align: right;\">0.227076</td><td style = \"text-align: right;\">0.95</td><td style = \"text-align: right;\">105</td><td style = \"text-align: right;\">103</td><td style = \"text-align: right;\">889</td></tr><tr><td class = \"rowNumber\" style = \"font-weight: bold; text-align: right;\">44266</td><td style = \"text-align: left;\">AF8_Mean</td><td style = \"text-align: left;\">HCT_Accuracy</td><td style = \"text-align: right;\">0.147069</td><td style = \"text-align: right;\">0.147069</td><td style = \"text-align: right;\">0.134362</td><td style = \"text-align: right;\">1.50899</td><td style = \"text-align: right;\">-0.0458899</td><td style = \"text-align: right;\">0.329448</td><td style = \"text-align: right;\">0.95</td><td style = \"text-align: right;\">105</td><td style = \"text-align: right;\">103</td><td style = \"text-align: right;\">889</td></tr><tr><td class = \"rowNumber\" style = \"font-weight: bold; text-align: right;\">44267</td><td style = \"text-align: left;\">AF8_Mean</td><td style = \"text-align: left;\">HCT_Sensibility</td><td style = \"text-align: right;\">-0.0375423</td><td style = \"text-align: right;\">0.0375423</td><td style = \"text-align: right;\">0.70378</td><td style = \"text-align: right;\">-0.381281</td><td style = \"text-align: right;\">-0.22757</td><td style = \"text-align: right;\">0.15524</td><td style = \"text-align: right;\">0.95</td><td style = \"text-align: right;\">105</td><td style = \"text-align: right;\">103</td><td style = \"text-align: right;\">889</td></tr><tr><td class = \"rowNumber\" style = \"font-weight: bold; text-align: right;\">44268</td><td style = \"text-align: left;\">AF8_Mean</td><td style = \"text-align: left;\">HCT_Awareness</td><td style = \"text-align: right;\">-0.121283</td><td style = \"text-align: right;\">0.121283</td><td style = \"text-align: right;\">0.217777</td><td style = \"text-align: right;\">-1.24004</td><td style = \"text-align: right;\">-0.305839</td><td style = \"text-align: right;\">0.0720571</td><td style = \"text-align: right;\">0.95</td><td style = \"text-align: right;\">105</td><td style = \"text-align: right;\">103</td><td style = \"text-align: right;\">889</td></tr></tbody></table></div>"
      ],
      "text/latex": [
       "\\begin{tabular}{r|ccccccc}\n",
       "\t& Parameter1 & Parameter2 & r & abs\\_r & p & t & \\\\\n",
       "\t\\hline\n",
       "\t& Symbol & Symbol & Float64 & Float64 & Float64 & Float64 & \\\\\n",
       "\t\\hline\n",
       "\t1 & AF7\\_Mean & MAIA\\_Noticing & 0.203346 & 0.203346 & 0.0469126 & 2.01358 & $\\dots$ \\\\\n",
       "\t2 & AF7\\_Mean & MAIA\\_NotDistracting & 0.179335 & 0.179335 & 0.0804118 & 1.76737 & $\\dots$ \\\\\n",
       "\t3 & AF7\\_Mean & MAIA\\_NotWorrying & -0.0252692 & 0.0252692 & 0.806935 & -0.245072 & $\\dots$ \\\\\n",
       "\t4 & AF7\\_Mean & MAIA\\_AttentionRegulation & 0.200858 & 0.200858 & 0.0497313 & 1.98791 & $\\dots$ \\\\\n",
       "\t5 & AF7\\_Mean & MAIA\\_EmotionalAwareness & 0.335955 & 0.335955 & 0.000818764 & 3.4582 & $\\dots$ \\\\\n",
       "\t6 & AF7\\_Mean & MAIA\\_SelfRegulation & 0.138443 & 0.138443 & 0.178569 & 1.3553 & $\\dots$ \\\\\n",
       "\t7 & AF7\\_Mean & MAIA\\_BodyListening & 0.324663 & 0.324663 & 0.00124984 & 3.328 & $\\dots$ \\\\\n",
       "\t8 & AF7\\_Mean & MAIA\\_Trusting & 0.0616587 & 0.0616587 & 0.550652 & 0.598943 & $\\dots$ \\\\\n",
       "\t9 & AF7\\_Mean & IAS\\_Total & 0.0344597 & 0.0344597 & 0.738899 & 0.334298 & $\\dots$ \\\\\n",
       "\t10 & AF7\\_Mean & HRV\\_MeanNN & 0.110457 & 0.110457 & 0.284007 & 1.07752 & $\\dots$ \\\\\n",
       "\t11 & AF7\\_Mean & HRV\\_SDNN & 0.0995237 & 0.0995237 & 0.334668 & 0.969733 & $\\dots$ \\\\\n",
       "\t12 & AF7\\_Mean & HRV\\_RMSSD & 0.0601588 & 0.0601588 & 0.560405 & 0.58432 & $\\dots$ \\\\\n",
       "\t13 & AF7\\_Mean & HRV\\_SampEn & -0.014953 & 0.014953 & 0.885029 & -0.144991 & $\\dots$ \\\\\n",
       "\t14 & AF7\\_Mean & HRV\\_HF & 0.0510523 & 0.0510523 & 0.621321 & 0.495617 & $\\dots$ \\\\\n",
       "\t15 & AF7\\_Mean & HRV\\_HFD & 0.0338975 & 0.0338975 & 0.74301 & 0.328837 & $\\dots$ \\\\\n",
       "\t16 & AF7\\_Mean & HRV\\_LFHF & 0.0432886 & 0.0432886 & 0.675376 & 0.420093 & $\\dots$ \\\\\n",
       "\t17 & AF7\\_Mean & HRV\\_IALS & 0.000394732 & 0.000394732 & 0.996955 & 0.00382707 & $\\dots$ \\\\\n",
       "\t18 & AF7\\_Mean & HRV\\_Ca & -0.032575 & 0.032575 & 0.752708 & -0.315994 & $\\dots$ \\\\\n",
       "\t19 & AF7\\_Mean & HRV\\_AI & -0.0483465 & 0.0483465 & 0.639952 & -0.469286 & $\\dots$ \\\\\n",
       "\t20 & AF7\\_Mean & HRV\\_MeanNN\\_HCT & 0.134527 & 0.134527 & 0.191291 & 1.31625 & $\\dots$ \\\\\n",
       "\t21 & AF7\\_Mean & HRV\\_SDNN\\_HCT & 0.10034 & 0.10034 & 0.330697 & 0.977772 & $\\dots$ \\\\\n",
       "\t22 & AF7\\_Mean & HRV\\_RMSSD\\_HCT & 0.0749038 & 0.0749038 & 0.468261 & 0.728265 & $\\dots$ \\\\\n",
       "\t23 & AF7\\_Mean & HCT\\_Accuracy & 0.0956667 & 0.0956667 & 0.353829 & 0.931797 & $\\dots$ \\\\\n",
       "\t24 & AF7\\_Mean & HCT\\_Sensibility & 0.148786 & 0.148786 & 0.147961 & 1.45877 & $\\dots$ \\\\\n",
       "\t$\\dots$ & $\\dots$ & $\\dots$ & $\\dots$ & $\\dots$ & $\\dots$ & $\\dots$ &  \\\\\n",
       "\\end{tabular}\n"
      ],
      "text/plain": [
       "\u001b[1m44268×12 DataFrame\u001b[0m\n",
       "\u001b[1m   Row \u001b[0m│\u001b[1m Parameter1 \u001b[0m\u001b[1m Parameter2               \u001b[0m\u001b[1m r           \u001b[0m\u001b[1m abs_r      \u001b[0m\u001b[1m p     \u001b[0m ⋯\n",
       "       │\u001b[90m Symbol     \u001b[0m\u001b[90m Symbol                   \u001b[0m\u001b[90m Float64     \u001b[0m\u001b[90m Float64    \u001b[0m\u001b[90m Float6\u001b[0m ⋯\n",
       "───────┼────────────────────────────────────────────────────────────────────────\n",
       "     1 │ AF7_Mean    MAIA_Noticing              0.203346    0.203346    0.0469 ⋯\n",
       "     2 │ AF7_Mean    MAIA_NotDistracting        0.179335    0.179335    0.0804\n",
       "     3 │ AF7_Mean    MAIA_NotWorrying          -0.0252692   0.0252692   0.8069\n",
       "     4 │ AF7_Mean    MAIA_AttentionRegulation   0.200858    0.200858    0.0497\n",
       "     5 │ AF7_Mean    MAIA_EmotionalAwareness    0.335955    0.335955    0.0008 ⋯\n",
       "     6 │ AF7_Mean    MAIA_SelfRegulation        0.138443    0.138443    0.1785\n",
       "     7 │ AF7_Mean    MAIA_BodyListening         0.324663    0.324663    0.0012\n",
       "     8 │ AF7_Mean    MAIA_Trusting              0.0616587   0.0616587   0.5506\n",
       "   ⋮   │     ⋮                  ⋮                   ⋮           ⋮            ⋮ ⋱\n",
       " 44262 │ AF8_Mean    HRV_AI                     0.0221013   0.0221013   0.8229 ⋯\n",
       " 44263 │ AF8_Mean    HRV_MeanNN_HCT             0.00471111  0.00471111  0.9619\n",
       " 44264 │ AF8_Mean    HRV_SDNN_HCT               0.060678    0.060678    0.5386\n",
       " 44265 │ AF8_Mean    HRV_RMSSD_HCT              0.0370215   0.0370215   0.7077\n",
       " 44266 │ AF8_Mean    HCT_Accuracy               0.147069    0.147069    0.1343 ⋯\n",
       " 44267 │ AF8_Mean    HCT_Sensibility           -0.0375423   0.0375423   0.7037\n",
       " 44268 │ AF8_Mean    HCT_Awareness             -0.121283    0.121283    0.2177\n",
       "\u001b[36m                                                8 columns and 44253 rows omitted\u001b[0m"
      ]
     },
     "metadata": {},
     "output_type": "display_data"
    }
   ],
   "source": [
    "global epstats = epoch_stats(df)\n",
    "\n",
    "epochs = 1:(epstats.max_count)\n",
    "\n",
    "steps = length(epochs) * 102 # 50 correlations for each combination, plus 2 for good luck\n",
    "\n",
    "output = Vector{EpochCorTestResult}(undef, steps)\n",
    "prealloc_i = Threads.Atomic{Int}(1)\n",
    "\n",
    "Threads.@threads for e in epochs\n",
    "\n",
    "    windowed = (@view df[df.epoch .<= e, :])\n",
    "\n",
    "    if (nrow(windowed) === 0)\n",
    "        continue\n",
    "    end\n",
    "\n",
    "    (means, interoceptive) = prepare_variables(windowed)\n",
    "\n",
    "    pairwise_correlation(means, interoceptive, output, prealloc_i; e = e)\n",
    "\n",
    "    # println(\"Thread $(Threads.threadid()): $e\")\n",
    "\n",
    "\n",
    "end\n",
    "global epoch_df = DataFrame(remove_undef(output))"
   ]
  }
 ],
 "metadata": {
  "kernelspec": {
   "display_name": "Julia 1.11.3",
   "language": "julia",
   "name": "julia-1.11"
  },
  "language_info": {
   "file_extension": ".jl",
   "mimetype": "application/julia",
   "name": "julia",
   "version": "1.11.3"
  }
 },
 "nbformat": 4,
 "nbformat_minor": 2
}
